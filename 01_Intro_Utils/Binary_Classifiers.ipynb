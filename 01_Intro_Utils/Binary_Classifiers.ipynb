{
  "nbformat": 4,
  "nbformat_minor": 0,
  "metadata": {
    "colab": {
      "name": "Binary Classifiers.ipynb",
      "provenance": [],
      "collapsed_sections": [],
      "include_colab_link": true
    },
    "kernelspec": {
      "name": "python3",
      "display_name": "Python 3"
    },
    "language_info": {
      "name": "python"
    }
  },
  "cells": [
    {
      "cell_type": "markdown",
      "metadata": {
        "id": "view-in-github",
        "colab_type": "text"
      },
      "source": [
        "<a href=\"https://colab.research.google.com/github/leolellisr/deep_learning_projects/blob/main/01_Intro_Utils/Binary_Classifiers.ipynb\" target=\"_parent\"><img src=\"https://colab.research.google.com/assets/colab-badge.svg\" alt=\"Open In Colab\"/></a>"
      ]
    },
    {
      "cell_type": "code",
      "metadata": {
        "id": "naaN4O28kaSx"
      },
      "source": [
        "import torch\n",
        "import numpy as np\n",
        "\n",
        "batch_size = 4"
      ],
      "execution_count": null,
      "outputs": []
    },
    {
      "cell_type": "markdown",
      "metadata": {
        "id": "0feDR6aBpCl0"
      },
      "source": [
        "# 2 Neuronios + Softmax + Minha Função de Loss"
      ]
    },
    {
      "cell_type": "code",
      "metadata": {
        "colab": {
          "base_uri": "https://localhost:8080/"
        },
        "id": "TBPWCoCTpMp5",
        "outputId": "2011dd57-b1c5-480f-d1af-303ae08e264b"
      },
      "source": [
        "model = sequential = torch.nn.Sequential(\n",
        "    torch.nn.Linear(16, 8),\n",
        "    torch.nn.ReLU(),\n",
        "    torch.nn.Linear(8, 2),\n",
        "    torch.nn.Softmax(dim=1))\n",
        "            \n",
        "input = torch.randn((batch_size, 16), requires_grad=True)\n",
        "idx = torch.arange(input.shape[0], dtype=torch.int64)\n",
        "target = torch.from_numpy(np.array([0, 1, 1, 0], dtype=np.int64))\n",
        "\n",
        "prediction = model(input)\n",
        "probs_target = prediction[idx, target]\n",
        "loss = -torch.log(probs_target + 1e-7)\n",
        "\n",
        "print(f'input: {input}')\n",
        "print(f'input.shape: {input.shape}')\n",
        "print(f'prediction: {prediction}')\n",
        "print(f'idx: {idx}')\n",
        "print(f'target: {target}')\n",
        "print(f'probs_target: {probs_target}')\n",
        "print(f'loss: {loss}')"
      ],
      "execution_count": null,
      "outputs": [
        {
          "output_type": "stream",
          "name": "stdout",
          "text": [
            "input: tensor([[ 0.5300, -0.8472,  0.3132, -0.1994,  0.5200,  0.2701, -0.3821,  0.1214,\n",
            "          2.2752, -1.1460,  0.4442,  0.0862, -0.0602,  0.1438,  1.6312, -0.9595],\n",
            "        [-0.7313,  1.8231,  1.2763,  0.1952,  0.4665, -1.3412, -1.5978,  0.3990,\n",
            "         -0.4427, -0.8500, -1.3538,  0.9255, -0.2563,  1.6390, -0.7549,  0.5435],\n",
            "        [-0.2785, -0.8406,  1.5422,  0.0603,  1.1721,  0.6317,  0.0294, -0.6497,\n",
            "          0.6783,  0.4121,  0.7027,  0.7136,  1.8989, -2.0793,  0.3962, -1.1553],\n",
            "        [ 0.4216, -0.9807,  0.0265,  1.2042,  0.1275,  1.9665, -0.5219,  0.3206,\n",
            "          0.3553,  0.9053,  0.2259,  0.1895, -0.3344,  0.3291, -0.8335, -0.1347]],\n",
            "       requires_grad=True)\n",
            "input.shape: torch.Size([4, 16])\n",
            "prediction: tensor([[0.6667, 0.3333],\n",
            "        [0.7056, 0.2944],\n",
            "        [0.6613, 0.3387],\n",
            "        [0.6895, 0.3105]], grad_fn=<SoftmaxBackward>)\n",
            "idx: tensor([0, 1, 2, 3])\n",
            "target: tensor([0, 1, 1, 0])\n",
            "probs_target: tensor([0.6667, 0.2944, 0.3387, 0.6895], grad_fn=<IndexBackward>)\n",
            "loss: tensor([0.4055, 1.2228, 1.0828, 0.3718], grad_fn=<NegBackward>)\n"
          ]
        }
      ]
    },
    {
      "cell_type": "markdown",
      "metadata": {
        "id": "lwg0Lzo1nqUN"
      },
      "source": [
        "# 2 Neuronios + LogSoftmax + NLLLoss"
      ]
    },
    {
      "cell_type": "code",
      "metadata": {
        "colab": {
          "base_uri": "https://localhost:8080/"
        },
        "id": "nlvAQqPAnwzn",
        "outputId": "ab4cad19-7285-471c-a7f1-9532130a9c52"
      },
      "source": [
        "model = sequential = torch.nn.Sequential(\n",
        "    torch.nn.Linear(256, 64),\n",
        "    torch.nn.ReLU(),\n",
        "    torch.nn.Linear(64, 2),\n",
        "    torch.nn.LogSoftmax(dim=1))\n",
        "            \n",
        "loss_fn = torch.nn.NLLLoss()\n",
        "\n",
        "input = torch.randn((batch_size, 256), requires_grad=True)\n",
        "target = torch.from_numpy(np.array([0, 1, 1, 0], dtype=np.int64))\n",
        "prediction = model(input)\n",
        "loss = loss_fn(prediction, target)\n",
        "\n",
        "print(f'prediction: {prediction}')\n",
        "print(f'target: {target}')\n",
        "print(f'loss: {loss}')"
      ],
      "execution_count": null,
      "outputs": [
        {
          "output_type": "stream",
          "name": "stdout",
          "text": [
            "prediction: tensor([[-0.8856, -0.5318],\n",
            "        [-0.7983, -0.5980],\n",
            "        [-0.8450, -0.5613],\n",
            "        [-0.6694, -0.7174]], grad_fn=<LogSoftmaxBackward>)\n",
            "target: tensor([0, 1, 1, 0])\n",
            "loss: 0.6785985231399536\n"
          ]
        }
      ]
    },
    {
      "cell_type": "markdown",
      "metadata": {
        "id": "eRzN3peMo5Xi"
      },
      "source": [
        "# 2 Neuronios + CrossEntropyLoss"
      ]
    },
    {
      "cell_type": "code",
      "metadata": {
        "colab": {
          "base_uri": "https://localhost:8080/"
        },
        "id": "Gc1NJYUeo-A1",
        "outputId": "ffcbe8df-825a-45b1-9376-8e7fc03bcab3"
      },
      "source": [
        "model = sequential = torch.nn.Sequential(\n",
        "    torch.nn.Linear(256, 64),\n",
        "    torch.nn.ReLU(),\n",
        "    torch.nn.Linear(64, 2))\n",
        "            \n",
        "loss_fn = torch.nn.CrossEntropyLoss()\n",
        "\n",
        "input = torch.randn((batch_size, 256), requires_grad=True)\n",
        "target = torch.from_numpy(np.array([0, 1, 1, 0], dtype=np.int64))\n",
        "logits = model(input)\n",
        "loss = loss_fn(logits, target)\n",
        "\n",
        "print(f'logits: {logits}')\n",
        "print(f'target: {target}')\n",
        "print(f'loss: {loss}')"
      ],
      "execution_count": null,
      "outputs": [
        {
          "output_type": "stream",
          "name": "stdout",
          "text": [
            "logits: tensor([[ 0.0055, -0.0378],\n",
            "        [ 0.1105, -0.3067],\n",
            "        [ 0.0382, -0.0401],\n",
            "        [-0.2437,  0.2362]], grad_fn=<AddmmBackward>)\n",
            "target: tensor([0, 1, 1, 0])\n",
            "loss: 0.8224489688873291\n"
          ]
        }
      ]
    },
    {
      "cell_type": "markdown",
      "metadata": {
        "id": "_-e8hp8Knkhu"
      },
      "source": [
        "# 1 Neuronio + Sigmoid + BCELoss"
      ]
    },
    {
      "cell_type": "code",
      "metadata": {
        "colab": {
          "base_uri": "https://localhost:8080/"
        },
        "id": "Kz3LqRD4kdfZ",
        "outputId": "053217e0-b5d7-44c7-ec70-e3ba9baab110"
      },
      "source": [
        "model = sequential = torch.nn.Sequential(\n",
        "    torch.nn.Linear(256, 64),\n",
        "    torch.nn.ReLU(),\n",
        "    torch.nn.Linear(64, 1),\n",
        "    torch.nn.Sigmoid())\n",
        "            \n",
        "loss_fn = torch.nn.BCELoss()\n",
        "\n",
        "input = torch.randn(batch_size, 256, requires_grad=True)\n",
        "target = torch.from_numpy(np.array([[0]], dtype=np.float32))\n",
        "prediction = model(input)\n",
        "loss = loss_fn(prediction, target)\n",
        "\n",
        "print(f'prediction: {prediction}')\n",
        "print(f'target: {target}')\n",
        "print(f'loss: {loss}')"
      ],
      "execution_count": null,
      "outputs": [
        {
          "output_type": "stream",
          "name": "stdout",
          "text": [
            "prediction: tensor([[0.4996]], grad_fn=<SigmoidBackward>)\n",
            "target: tensor([[0.]])\n",
            "loss: 0.6924161911010742\n"
          ]
        }
      ]
    }
  ]
}