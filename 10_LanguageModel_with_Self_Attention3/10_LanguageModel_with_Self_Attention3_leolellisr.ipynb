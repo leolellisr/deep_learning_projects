{
  "nbformat": 4,
  "nbformat_minor": 0,
  "metadata": {
    "colab": {
      "name": "Aula 9 - Exercício - Leonardo de Lellis Rossi RA261900",
      "provenance": [],
      "collapsed_sections": [],
      "include_colab_link": true
    },
    "kernelspec": {
      "name": "python3",
      "display_name": "Python 3"
    },
    "accelerator": "GPU",
    "widgets": {
      "application/vnd.jupyter.widget-state+json": {
        "7bcb8020527c40eab103f51426001e0d": {
          "model_module": "@jupyter-widgets/controls",
          "model_name": "HBoxModel",
          "model_module_version": "1.5.0",
          "state": {
            "_dom_classes": [],
            "_model_module": "@jupyter-widgets/controls",
            "_model_module_version": "1.5.0",
            "_model_name": "HBoxModel",
            "_view_count": null,
            "_view_module": "@jupyter-widgets/controls",
            "_view_module_version": "1.5.0",
            "_view_name": "HBoxView",
            "box_style": "",
            "children": [
              "IPY_MODEL_6fda6c0a2acb4fa586bab1ab0d78f5d7",
              "IPY_MODEL_28112c30f49a4f4b915c8f801e4feb88",
              "IPY_MODEL_6b9f12e6a4b44b4f936a4f76da07986b"
            ],
            "layout": "IPY_MODEL_1eff9ee16a5b46c2a952ceafbd2ee7a2"
          }
        },
        "6fda6c0a2acb4fa586bab1ab0d78f5d7": {
          "model_module": "@jupyter-widgets/controls",
          "model_name": "HTMLModel",
          "model_module_version": "1.5.0",
          "state": {
            "_dom_classes": [],
            "_model_module": "@jupyter-widgets/controls",
            "_model_module_version": "1.5.0",
            "_model_name": "HTMLModel",
            "_view_count": null,
            "_view_module": "@jupyter-widgets/controls",
            "_view_module_version": "1.5.0",
            "_view_name": "HTMLView",
            "description": "",
            "description_tooltip": null,
            "layout": "IPY_MODEL_d18dcb37d2bc4b1b9e3fe6e74c43b558",
            "placeholder": "​",
            "style": "IPY_MODEL_3860624458474e0787fa2405aacbbde9",
            "value": "Downloading: 100%"
          }
        },
        "28112c30f49a4f4b915c8f801e4feb88": {
          "model_module": "@jupyter-widgets/controls",
          "model_name": "FloatProgressModel",
          "model_module_version": "1.5.0",
          "state": {
            "_dom_classes": [],
            "_model_module": "@jupyter-widgets/controls",
            "_model_module_version": "1.5.0",
            "_model_name": "FloatProgressModel",
            "_view_count": null,
            "_view_module": "@jupyter-widgets/controls",
            "_view_module_version": "1.5.0",
            "_view_name": "ProgressView",
            "bar_style": "success",
            "description": "",
            "description_tooltip": null,
            "layout": "IPY_MODEL_e6d511cc15024c208b6c91b9ad0f3eb9",
            "max": 209528,
            "min": 0,
            "orientation": "horizontal",
            "style": "IPY_MODEL_49a57f031d3040f1bb1404c6f4051b21",
            "value": 209528
          }
        },
        "6b9f12e6a4b44b4f936a4f76da07986b": {
          "model_module": "@jupyter-widgets/controls",
          "model_name": "HTMLModel",
          "model_module_version": "1.5.0",
          "state": {
            "_dom_classes": [],
            "_model_module": "@jupyter-widgets/controls",
            "_model_module_version": "1.5.0",
            "_model_name": "HTMLModel",
            "_view_count": null,
            "_view_module": "@jupyter-widgets/controls",
            "_view_module_version": "1.5.0",
            "_view_name": "HTMLView",
            "description": "",
            "description_tooltip": null,
            "layout": "IPY_MODEL_c4f04701dfab47d594687f54c2897cb3",
            "placeholder": "​",
            "style": "IPY_MODEL_f03562acbefe40629464469435548b30",
            "value": " 205k/205k [00:00&lt;00:00, 262kB/s]"
          }
        },
        "1eff9ee16a5b46c2a952ceafbd2ee7a2": {
          "model_module": "@jupyter-widgets/base",
          "model_name": "LayoutModel",
          "model_module_version": "1.2.0",
          "state": {
            "_model_module": "@jupyter-widgets/base",
            "_model_module_version": "1.2.0",
            "_model_name": "LayoutModel",
            "_view_count": null,
            "_view_module": "@jupyter-widgets/base",
            "_view_module_version": "1.2.0",
            "_view_name": "LayoutView",
            "align_content": null,
            "align_items": null,
            "align_self": null,
            "border": null,
            "bottom": null,
            "display": null,
            "flex": null,
            "flex_flow": null,
            "grid_area": null,
            "grid_auto_columns": null,
            "grid_auto_flow": null,
            "grid_auto_rows": null,
            "grid_column": null,
            "grid_gap": null,
            "grid_row": null,
            "grid_template_areas": null,
            "grid_template_columns": null,
            "grid_template_rows": null,
            "height": null,
            "justify_content": null,
            "justify_items": null,
            "left": null,
            "margin": null,
            "max_height": null,
            "max_width": null,
            "min_height": null,
            "min_width": null,
            "object_fit": null,
            "object_position": null,
            "order": null,
            "overflow": null,
            "overflow_x": null,
            "overflow_y": null,
            "padding": null,
            "right": null,
            "top": null,
            "visibility": null,
            "width": null
          }
        },
        "d18dcb37d2bc4b1b9e3fe6e74c43b558": {
          "model_module": "@jupyter-widgets/base",
          "model_name": "LayoutModel",
          "model_module_version": "1.2.0",
          "state": {
            "_model_module": "@jupyter-widgets/base",
            "_model_module_version": "1.2.0",
            "_model_name": "LayoutModel",
            "_view_count": null,
            "_view_module": "@jupyter-widgets/base",
            "_view_module_version": "1.2.0",
            "_view_name": "LayoutView",
            "align_content": null,
            "align_items": null,
            "align_self": null,
            "border": null,
            "bottom": null,
            "display": null,
            "flex": null,
            "flex_flow": null,
            "grid_area": null,
            "grid_auto_columns": null,
            "grid_auto_flow": null,
            "grid_auto_rows": null,
            "grid_column": null,
            "grid_gap": null,
            "grid_row": null,
            "grid_template_areas": null,
            "grid_template_columns": null,
            "grid_template_rows": null,
            "height": null,
            "justify_content": null,
            "justify_items": null,
            "left": null,
            "margin": null,
            "max_height": null,
            "max_width": null,
            "min_height": null,
            "min_width": null,
            "object_fit": null,
            "object_position": null,
            "order": null,
            "overflow": null,
            "overflow_x": null,
            "overflow_y": null,
            "padding": null,
            "right": null,
            "top": null,
            "visibility": null,
            "width": null
          }
        },
        "3860624458474e0787fa2405aacbbde9": {
          "model_module": "@jupyter-widgets/controls",
          "model_name": "DescriptionStyleModel",
          "model_module_version": "1.5.0",
          "state": {
            "_model_module": "@jupyter-widgets/controls",
            "_model_module_version": "1.5.0",
            "_model_name": "DescriptionStyleModel",
            "_view_count": null,
            "_view_module": "@jupyter-widgets/base",
            "_view_module_version": "1.2.0",
            "_view_name": "StyleView",
            "description_width": ""
          }
        },
        "e6d511cc15024c208b6c91b9ad0f3eb9": {
          "model_module": "@jupyter-widgets/base",
          "model_name": "LayoutModel",
          "model_module_version": "1.2.0",
          "state": {
            "_model_module": "@jupyter-widgets/base",
            "_model_module_version": "1.2.0",
            "_model_name": "LayoutModel",
            "_view_count": null,
            "_view_module": "@jupyter-widgets/base",
            "_view_module_version": "1.2.0",
            "_view_name": "LayoutView",
            "align_content": null,
            "align_items": null,
            "align_self": null,
            "border": null,
            "bottom": null,
            "display": null,
            "flex": null,
            "flex_flow": null,
            "grid_area": null,
            "grid_auto_columns": null,
            "grid_auto_flow": null,
            "grid_auto_rows": null,
            "grid_column": null,
            "grid_gap": null,
            "grid_row": null,
            "grid_template_areas": null,
            "grid_template_columns": null,
            "grid_template_rows": null,
            "height": null,
            "justify_content": null,
            "justify_items": null,
            "left": null,
            "margin": null,
            "max_height": null,
            "max_width": null,
            "min_height": null,
            "min_width": null,
            "object_fit": null,
            "object_position": null,
            "order": null,
            "overflow": null,
            "overflow_x": null,
            "overflow_y": null,
            "padding": null,
            "right": null,
            "top": null,
            "visibility": null,
            "width": null
          }
        },
        "49a57f031d3040f1bb1404c6f4051b21": {
          "model_module": "@jupyter-widgets/controls",
          "model_name": "ProgressStyleModel",
          "model_module_version": "1.5.0",
          "state": {
            "_model_module": "@jupyter-widgets/controls",
            "_model_module_version": "1.5.0",
            "_model_name": "ProgressStyleModel",
            "_view_count": null,
            "_view_module": "@jupyter-widgets/base",
            "_view_module_version": "1.2.0",
            "_view_name": "StyleView",
            "bar_color": null,
            "description_width": ""
          }
        },
        "c4f04701dfab47d594687f54c2897cb3": {
          "model_module": "@jupyter-widgets/base",
          "model_name": "LayoutModel",
          "model_module_version": "1.2.0",
          "state": {
            "_model_module": "@jupyter-widgets/base",
            "_model_module_version": "1.2.0",
            "_model_name": "LayoutModel",
            "_view_count": null,
            "_view_module": "@jupyter-widgets/base",
            "_view_module_version": "1.2.0",
            "_view_name": "LayoutView",
            "align_content": null,
            "align_items": null,
            "align_self": null,
            "border": null,
            "bottom": null,
            "display": null,
            "flex": null,
            "flex_flow": null,
            "grid_area": null,
            "grid_auto_columns": null,
            "grid_auto_flow": null,
            "grid_auto_rows": null,
            "grid_column": null,
            "grid_gap": null,
            "grid_row": null,
            "grid_template_areas": null,
            "grid_template_columns": null,
            "grid_template_rows": null,
            "height": null,
            "justify_content": null,
            "justify_items": null,
            "left": null,
            "margin": null,
            "max_height": null,
            "max_width": null,
            "min_height": null,
            "min_width": null,
            "object_fit": null,
            "object_position": null,
            "order": null,
            "overflow": null,
            "overflow_x": null,
            "overflow_y": null,
            "padding": null,
            "right": null,
            "top": null,
            "visibility": null,
            "width": null
          }
        },
        "f03562acbefe40629464469435548b30": {
          "model_module": "@jupyter-widgets/controls",
          "model_name": "DescriptionStyleModel",
          "model_module_version": "1.5.0",
          "state": {
            "_model_module": "@jupyter-widgets/controls",
            "_model_module_version": "1.5.0",
            "_model_name": "DescriptionStyleModel",
            "_view_count": null,
            "_view_module": "@jupyter-widgets/base",
            "_view_module_version": "1.2.0",
            "_view_name": "StyleView",
            "description_width": ""
          }
        },
        "db033ecbbef64fb0af8a05ade8dd018d": {
          "model_module": "@jupyter-widgets/controls",
          "model_name": "HBoxModel",
          "model_module_version": "1.5.0",
          "state": {
            "_dom_classes": [],
            "_model_module": "@jupyter-widgets/controls",
            "_model_module_version": "1.5.0",
            "_model_name": "HBoxModel",
            "_view_count": null,
            "_view_module": "@jupyter-widgets/controls",
            "_view_module_version": "1.5.0",
            "_view_name": "HBoxView",
            "box_style": "",
            "children": [
              "IPY_MODEL_cc4b3c87d04e41e4989ce5ee06558b22",
              "IPY_MODEL_af15af463e4049dc8231f9a0763717c7",
              "IPY_MODEL_a29ff1298b5948cd8c0f1f3e6814629a"
            ],
            "layout": "IPY_MODEL_94dcb8368ef345cfb3ff9684dc3e179b"
          }
        },
        "cc4b3c87d04e41e4989ce5ee06558b22": {
          "model_module": "@jupyter-widgets/controls",
          "model_name": "HTMLModel",
          "model_module_version": "1.5.0",
          "state": {
            "_dom_classes": [],
            "_model_module": "@jupyter-widgets/controls",
            "_model_module_version": "1.5.0",
            "_model_name": "HTMLModel",
            "_view_count": null,
            "_view_module": "@jupyter-widgets/controls",
            "_view_module_version": "1.5.0",
            "_view_name": "HTMLView",
            "description": "",
            "description_tooltip": null,
            "layout": "IPY_MODEL_828bf4176baa4053bd97afd4ebb0a135",
            "placeholder": "​",
            "style": "IPY_MODEL_42fb4e85da3f4ac8a880e634d04dc3c6",
            "value": "Downloading: 100%"
          }
        },
        "af15af463e4049dc8231f9a0763717c7": {
          "model_module": "@jupyter-widgets/controls",
          "model_name": "FloatProgressModel",
          "model_module_version": "1.5.0",
          "state": {
            "_dom_classes": [],
            "_model_module": "@jupyter-widgets/controls",
            "_model_module_version": "1.5.0",
            "_model_name": "FloatProgressModel",
            "_view_count": null,
            "_view_module": "@jupyter-widgets/controls",
            "_view_module_version": "1.5.0",
            "_view_name": "ProgressView",
            "bar_style": "success",
            "description": "",
            "description_tooltip": null,
            "layout": "IPY_MODEL_f5d2d404be66423aad09fc5ee5220b7f",
            "max": 2,
            "min": 0,
            "orientation": "horizontal",
            "style": "IPY_MODEL_ffdda4e9d29444c48c38eee1e2bd0925",
            "value": 2
          }
        },
        "a29ff1298b5948cd8c0f1f3e6814629a": {
          "model_module": "@jupyter-widgets/controls",
          "model_name": "HTMLModel",
          "model_module_version": "1.5.0",
          "state": {
            "_dom_classes": [],
            "_model_module": "@jupyter-widgets/controls",
            "_model_module_version": "1.5.0",
            "_model_name": "HTMLModel",
            "_view_count": null,
            "_view_module": "@jupyter-widgets/controls",
            "_view_module_version": "1.5.0",
            "_view_name": "HTMLView",
            "description": "",
            "description_tooltip": null,
            "layout": "IPY_MODEL_be2f13741027461cae41a9c94ee9dd76",
            "placeholder": "​",
            "style": "IPY_MODEL_3470d67fbe764cb3bee95425f3bba664",
            "value": " 2.00/2.00 [00:00&lt;00:00, 51.0B/s]"
          }
        },
        "94dcb8368ef345cfb3ff9684dc3e179b": {
          "model_module": "@jupyter-widgets/base",
          "model_name": "LayoutModel",
          "model_module_version": "1.2.0",
          "state": {
            "_model_module": "@jupyter-widgets/base",
            "_model_module_version": "1.2.0",
            "_model_name": "LayoutModel",
            "_view_count": null,
            "_view_module": "@jupyter-widgets/base",
            "_view_module_version": "1.2.0",
            "_view_name": "LayoutView",
            "align_content": null,
            "align_items": null,
            "align_self": null,
            "border": null,
            "bottom": null,
            "display": null,
            "flex": null,
            "flex_flow": null,
            "grid_area": null,
            "grid_auto_columns": null,
            "grid_auto_flow": null,
            "grid_auto_rows": null,
            "grid_column": null,
            "grid_gap": null,
            "grid_row": null,
            "grid_template_areas": null,
            "grid_template_columns": null,
            "grid_template_rows": null,
            "height": null,
            "justify_content": null,
            "justify_items": null,
            "left": null,
            "margin": null,
            "max_height": null,
            "max_width": null,
            "min_height": null,
            "min_width": null,
            "object_fit": null,
            "object_position": null,
            "order": null,
            "overflow": null,
            "overflow_x": null,
            "overflow_y": null,
            "padding": null,
            "right": null,
            "top": null,
            "visibility": null,
            "width": null
          }
        },
        "828bf4176baa4053bd97afd4ebb0a135": {
          "model_module": "@jupyter-widgets/base",
          "model_name": "LayoutModel",
          "model_module_version": "1.2.0",
          "state": {
            "_model_module": "@jupyter-widgets/base",
            "_model_module_version": "1.2.0",
            "_model_name": "LayoutModel",
            "_view_count": null,
            "_view_module": "@jupyter-widgets/base",
            "_view_module_version": "1.2.0",
            "_view_name": "LayoutView",
            "align_content": null,
            "align_items": null,
            "align_self": null,
            "border": null,
            "bottom": null,
            "display": null,
            "flex": null,
            "flex_flow": null,
            "grid_area": null,
            "grid_auto_columns": null,
            "grid_auto_flow": null,
            "grid_auto_rows": null,
            "grid_column": null,
            "grid_gap": null,
            "grid_row": null,
            "grid_template_areas": null,
            "grid_template_columns": null,
            "grid_template_rows": null,
            "height": null,
            "justify_content": null,
            "justify_items": null,
            "left": null,
            "margin": null,
            "max_height": null,
            "max_width": null,
            "min_height": null,
            "min_width": null,
            "object_fit": null,
            "object_position": null,
            "order": null,
            "overflow": null,
            "overflow_x": null,
            "overflow_y": null,
            "padding": null,
            "right": null,
            "top": null,
            "visibility": null,
            "width": null
          }
        },
        "42fb4e85da3f4ac8a880e634d04dc3c6": {
          "model_module": "@jupyter-widgets/controls",
          "model_name": "DescriptionStyleModel",
          "model_module_version": "1.5.0",
          "state": {
            "_model_module": "@jupyter-widgets/controls",
            "_model_module_version": "1.5.0",
            "_model_name": "DescriptionStyleModel",
            "_view_count": null,
            "_view_module": "@jupyter-widgets/base",
            "_view_module_version": "1.2.0",
            "_view_name": "StyleView",
            "description_width": ""
          }
        },
        "f5d2d404be66423aad09fc5ee5220b7f": {
          "model_module": "@jupyter-widgets/base",
          "model_name": "LayoutModel",
          "model_module_version": "1.2.0",
          "state": {
            "_model_module": "@jupyter-widgets/base",
            "_model_module_version": "1.2.0",
            "_model_name": "LayoutModel",
            "_view_count": null,
            "_view_module": "@jupyter-widgets/base",
            "_view_module_version": "1.2.0",
            "_view_name": "LayoutView",
            "align_content": null,
            "align_items": null,
            "align_self": null,
            "border": null,
            "bottom": null,
            "display": null,
            "flex": null,
            "flex_flow": null,
            "grid_area": null,
            "grid_auto_columns": null,
            "grid_auto_flow": null,
            "grid_auto_rows": null,
            "grid_column": null,
            "grid_gap": null,
            "grid_row": null,
            "grid_template_areas": null,
            "grid_template_columns": null,
            "grid_template_rows": null,
            "height": null,
            "justify_content": null,
            "justify_items": null,
            "left": null,
            "margin": null,
            "max_height": null,
            "max_width": null,
            "min_height": null,
            "min_width": null,
            "object_fit": null,
            "object_position": null,
            "order": null,
            "overflow": null,
            "overflow_x": null,
            "overflow_y": null,
            "padding": null,
            "right": null,
            "top": null,
            "visibility": null,
            "width": null
          }
        },
        "ffdda4e9d29444c48c38eee1e2bd0925": {
          "model_module": "@jupyter-widgets/controls",
          "model_name": "ProgressStyleModel",
          "model_module_version": "1.5.0",
          "state": {
            "_model_module": "@jupyter-widgets/controls",
            "_model_module_version": "1.5.0",
            "_model_name": "ProgressStyleModel",
            "_view_count": null,
            "_view_module": "@jupyter-widgets/base",
            "_view_module_version": "1.2.0",
            "_view_name": "StyleView",
            "bar_color": null,
            "description_width": ""
          }
        },
        "be2f13741027461cae41a9c94ee9dd76": {
          "model_module": "@jupyter-widgets/base",
          "model_name": "LayoutModel",
          "model_module_version": "1.2.0",
          "state": {
            "_model_module": "@jupyter-widgets/base",
            "_model_module_version": "1.2.0",
            "_model_name": "LayoutModel",
            "_view_count": null,
            "_view_module": "@jupyter-widgets/base",
            "_view_module_version": "1.2.0",
            "_view_name": "LayoutView",
            "align_content": null,
            "align_items": null,
            "align_self": null,
            "border": null,
            "bottom": null,
            "display": null,
            "flex": null,
            "flex_flow": null,
            "grid_area": null,
            "grid_auto_columns": null,
            "grid_auto_flow": null,
            "grid_auto_rows": null,
            "grid_column": null,
            "grid_gap": null,
            "grid_row": null,
            "grid_template_areas": null,
            "grid_template_columns": null,
            "grid_template_rows": null,
            "height": null,
            "justify_content": null,
            "justify_items": null,
            "left": null,
            "margin": null,
            "max_height": null,
            "max_width": null,
            "min_height": null,
            "min_width": null,
            "object_fit": null,
            "object_position": null,
            "order": null,
            "overflow": null,
            "overflow_x": null,
            "overflow_y": null,
            "padding": null,
            "right": null,
            "top": null,
            "visibility": null,
            "width": null
          }
        },
        "3470d67fbe764cb3bee95425f3bba664": {
          "model_module": "@jupyter-widgets/controls",
          "model_name": "DescriptionStyleModel",
          "model_module_version": "1.5.0",
          "state": {
            "_model_module": "@jupyter-widgets/controls",
            "_model_module_version": "1.5.0",
            "_model_name": "DescriptionStyleModel",
            "_view_count": null,
            "_view_module": "@jupyter-widgets/base",
            "_view_module_version": "1.2.0",
            "_view_name": "StyleView",
            "description_width": ""
          }
        },
        "e912d12716584642b60fb77f2f98c505": {
          "model_module": "@jupyter-widgets/controls",
          "model_name": "HBoxModel",
          "model_module_version": "1.5.0",
          "state": {
            "_dom_classes": [],
            "_model_module": "@jupyter-widgets/controls",
            "_model_module_version": "1.5.0",
            "_model_name": "HBoxModel",
            "_view_count": null,
            "_view_module": "@jupyter-widgets/controls",
            "_view_module_version": "1.5.0",
            "_view_name": "HBoxView",
            "box_style": "",
            "children": [
              "IPY_MODEL_d315347451ba4181a5a95817f1027187",
              "IPY_MODEL_d3b34ad683ac498c864184a5ae302f06",
              "IPY_MODEL_9af895fa80f24ae49707017f21ef5023"
            ],
            "layout": "IPY_MODEL_4f98e1eacf2a4f8992ea08de10756bc2"
          }
        },
        "d315347451ba4181a5a95817f1027187": {
          "model_module": "@jupyter-widgets/controls",
          "model_name": "HTMLModel",
          "model_module_version": "1.5.0",
          "state": {
            "_dom_classes": [],
            "_model_module": "@jupyter-widgets/controls",
            "_model_module_version": "1.5.0",
            "_model_name": "HTMLModel",
            "_view_count": null,
            "_view_module": "@jupyter-widgets/controls",
            "_view_module_version": "1.5.0",
            "_view_name": "HTMLView",
            "description": "",
            "description_tooltip": null,
            "layout": "IPY_MODEL_d8f8ae1ad76d43d28c45be1db2e24e8d",
            "placeholder": "​",
            "style": "IPY_MODEL_9457ad710f39476db18719f689fdedeb",
            "value": "Downloading: 100%"
          }
        },
        "d3b34ad683ac498c864184a5ae302f06": {
          "model_module": "@jupyter-widgets/controls",
          "model_name": "FloatProgressModel",
          "model_module_version": "1.5.0",
          "state": {
            "_dom_classes": [],
            "_model_module": "@jupyter-widgets/controls",
            "_model_module_version": "1.5.0",
            "_model_name": "FloatProgressModel",
            "_view_count": null,
            "_view_module": "@jupyter-widgets/controls",
            "_view_module_version": "1.5.0",
            "_view_name": "ProgressView",
            "bar_style": "success",
            "description": "",
            "description_tooltip": null,
            "layout": "IPY_MODEL_f7dd570d379f449891d1ce3b2fe6a4a8",
            "max": 112,
            "min": 0,
            "orientation": "horizontal",
            "style": "IPY_MODEL_289b24ac6c404d248ca4a5645d020eae",
            "value": 112
          }
        },
        "9af895fa80f24ae49707017f21ef5023": {
          "model_module": "@jupyter-widgets/controls",
          "model_name": "HTMLModel",
          "model_module_version": "1.5.0",
          "state": {
            "_dom_classes": [],
            "_model_module": "@jupyter-widgets/controls",
            "_model_module_version": "1.5.0",
            "_model_name": "HTMLModel",
            "_view_count": null,
            "_view_module": "@jupyter-widgets/controls",
            "_view_module_version": "1.5.0",
            "_view_name": "HTMLView",
            "description": "",
            "description_tooltip": null,
            "layout": "IPY_MODEL_e64e1d8b22294a7fa2f42293de92d787",
            "placeholder": "​",
            "style": "IPY_MODEL_d5e3119832c24b0d8854d17037f0d509",
            "value": " 112/112 [00:00&lt;00:00, 3.37kB/s]"
          }
        },
        "4f98e1eacf2a4f8992ea08de10756bc2": {
          "model_module": "@jupyter-widgets/base",
          "model_name": "LayoutModel",
          "model_module_version": "1.2.0",
          "state": {
            "_model_module": "@jupyter-widgets/base",
            "_model_module_version": "1.2.0",
            "_model_name": "LayoutModel",
            "_view_count": null,
            "_view_module": "@jupyter-widgets/base",
            "_view_module_version": "1.2.0",
            "_view_name": "LayoutView",
            "align_content": null,
            "align_items": null,
            "align_self": null,
            "border": null,
            "bottom": null,
            "display": null,
            "flex": null,
            "flex_flow": null,
            "grid_area": null,
            "grid_auto_columns": null,
            "grid_auto_flow": null,
            "grid_auto_rows": null,
            "grid_column": null,
            "grid_gap": null,
            "grid_row": null,
            "grid_template_areas": null,
            "grid_template_columns": null,
            "grid_template_rows": null,
            "height": null,
            "justify_content": null,
            "justify_items": null,
            "left": null,
            "margin": null,
            "max_height": null,
            "max_width": null,
            "min_height": null,
            "min_width": null,
            "object_fit": null,
            "object_position": null,
            "order": null,
            "overflow": null,
            "overflow_x": null,
            "overflow_y": null,
            "padding": null,
            "right": null,
            "top": null,
            "visibility": null,
            "width": null
          }
        },
        "d8f8ae1ad76d43d28c45be1db2e24e8d": {
          "model_module": "@jupyter-widgets/base",
          "model_name": "LayoutModel",
          "model_module_version": "1.2.0",
          "state": {
            "_model_module": "@jupyter-widgets/base",
            "_model_module_version": "1.2.0",
            "_model_name": "LayoutModel",
            "_view_count": null,
            "_view_module": "@jupyter-widgets/base",
            "_view_module_version": "1.2.0",
            "_view_name": "LayoutView",
            "align_content": null,
            "align_items": null,
            "align_self": null,
            "border": null,
            "bottom": null,
            "display": null,
            "flex": null,
            "flex_flow": null,
            "grid_area": null,
            "grid_auto_columns": null,
            "grid_auto_flow": null,
            "grid_auto_rows": null,
            "grid_column": null,
            "grid_gap": null,
            "grid_row": null,
            "grid_template_areas": null,
            "grid_template_columns": null,
            "grid_template_rows": null,
            "height": null,
            "justify_content": null,
            "justify_items": null,
            "left": null,
            "margin": null,
            "max_height": null,
            "max_width": null,
            "min_height": null,
            "min_width": null,
            "object_fit": null,
            "object_position": null,
            "order": null,
            "overflow": null,
            "overflow_x": null,
            "overflow_y": null,
            "padding": null,
            "right": null,
            "top": null,
            "visibility": null,
            "width": null
          }
        },
        "9457ad710f39476db18719f689fdedeb": {
          "model_module": "@jupyter-widgets/controls",
          "model_name": "DescriptionStyleModel",
          "model_module_version": "1.5.0",
          "state": {
            "_model_module": "@jupyter-widgets/controls",
            "_model_module_version": "1.5.0",
            "_model_name": "DescriptionStyleModel",
            "_view_count": null,
            "_view_module": "@jupyter-widgets/base",
            "_view_module_version": "1.2.0",
            "_view_name": "StyleView",
            "description_width": ""
          }
        },
        "f7dd570d379f449891d1ce3b2fe6a4a8": {
          "model_module": "@jupyter-widgets/base",
          "model_name": "LayoutModel",
          "model_module_version": "1.2.0",
          "state": {
            "_model_module": "@jupyter-widgets/base",
            "_model_module_version": "1.2.0",
            "_model_name": "LayoutModel",
            "_view_count": null,
            "_view_module": "@jupyter-widgets/base",
            "_view_module_version": "1.2.0",
            "_view_name": "LayoutView",
            "align_content": null,
            "align_items": null,
            "align_self": null,
            "border": null,
            "bottom": null,
            "display": null,
            "flex": null,
            "flex_flow": null,
            "grid_area": null,
            "grid_auto_columns": null,
            "grid_auto_flow": null,
            "grid_auto_rows": null,
            "grid_column": null,
            "grid_gap": null,
            "grid_row": null,
            "grid_template_areas": null,
            "grid_template_columns": null,
            "grid_template_rows": null,
            "height": null,
            "justify_content": null,
            "justify_items": null,
            "left": null,
            "margin": null,
            "max_height": null,
            "max_width": null,
            "min_height": null,
            "min_width": null,
            "object_fit": null,
            "object_position": null,
            "order": null,
            "overflow": null,
            "overflow_x": null,
            "overflow_y": null,
            "padding": null,
            "right": null,
            "top": null,
            "visibility": null,
            "width": null
          }
        },
        "289b24ac6c404d248ca4a5645d020eae": {
          "model_module": "@jupyter-widgets/controls",
          "model_name": "ProgressStyleModel",
          "model_module_version": "1.5.0",
          "state": {
            "_model_module": "@jupyter-widgets/controls",
            "_model_module_version": "1.5.0",
            "_model_name": "ProgressStyleModel",
            "_view_count": null,
            "_view_module": "@jupyter-widgets/base",
            "_view_module_version": "1.2.0",
            "_view_name": "StyleView",
            "bar_color": null,
            "description_width": ""
          }
        },
        "e64e1d8b22294a7fa2f42293de92d787": {
          "model_module": "@jupyter-widgets/base",
          "model_name": "LayoutModel",
          "model_module_version": "1.2.0",
          "state": {
            "_model_module": "@jupyter-widgets/base",
            "_model_module_version": "1.2.0",
            "_model_name": "LayoutModel",
            "_view_count": null,
            "_view_module": "@jupyter-widgets/base",
            "_view_module_version": "1.2.0",
            "_view_name": "LayoutView",
            "align_content": null,
            "align_items": null,
            "align_self": null,
            "border": null,
            "bottom": null,
            "display": null,
            "flex": null,
            "flex_flow": null,
            "grid_area": null,
            "grid_auto_columns": null,
            "grid_auto_flow": null,
            "grid_auto_rows": null,
            "grid_column": null,
            "grid_gap": null,
            "grid_row": null,
            "grid_template_areas": null,
            "grid_template_columns": null,
            "grid_template_rows": null,
            "height": null,
            "justify_content": null,
            "justify_items": null,
            "left": null,
            "margin": null,
            "max_height": null,
            "max_width": null,
            "min_height": null,
            "min_width": null,
            "object_fit": null,
            "object_position": null,
            "order": null,
            "overflow": null,
            "overflow_x": null,
            "overflow_y": null,
            "padding": null,
            "right": null,
            "top": null,
            "visibility": null,
            "width": null
          }
        },
        "d5e3119832c24b0d8854d17037f0d509": {
          "model_module": "@jupyter-widgets/controls",
          "model_name": "DescriptionStyleModel",
          "model_module_version": "1.5.0",
          "state": {
            "_model_module": "@jupyter-widgets/controls",
            "_model_module_version": "1.5.0",
            "_model_name": "DescriptionStyleModel",
            "_view_count": null,
            "_view_module": "@jupyter-widgets/base",
            "_view_module_version": "1.2.0",
            "_view_name": "StyleView",
            "description_width": ""
          }
        },
        "46217b9e4fcd47309f3c41d743697f29": {
          "model_module": "@jupyter-widgets/controls",
          "model_name": "HBoxModel",
          "model_module_version": "1.5.0",
          "state": {
            "_dom_classes": [],
            "_model_module": "@jupyter-widgets/controls",
            "_model_module_version": "1.5.0",
            "_model_name": "HBoxModel",
            "_view_count": null,
            "_view_module": "@jupyter-widgets/controls",
            "_view_module_version": "1.5.0",
            "_view_name": "HBoxView",
            "box_style": "",
            "children": [
              "IPY_MODEL_d0fe21549ec647c28ea9d8902d8b8057",
              "IPY_MODEL_cc2f766ab6594e6caf3946950a739604",
              "IPY_MODEL_f63aba1d8a4144c5818e95217678b090"
            ],
            "layout": "IPY_MODEL_12c4e761c96f4018a1328527b6735dc8"
          }
        },
        "d0fe21549ec647c28ea9d8902d8b8057": {
          "model_module": "@jupyter-widgets/controls",
          "model_name": "HTMLModel",
          "model_module_version": "1.5.0",
          "state": {
            "_dom_classes": [],
            "_model_module": "@jupyter-widgets/controls",
            "_model_module_version": "1.5.0",
            "_model_name": "HTMLModel",
            "_view_count": null,
            "_view_module": "@jupyter-widgets/controls",
            "_view_module_version": "1.5.0",
            "_view_name": "HTMLView",
            "description": "",
            "description_tooltip": null,
            "layout": "IPY_MODEL_f67c4394e09641e3931267f0d11cae9b",
            "placeholder": "​",
            "style": "IPY_MODEL_2ccf861d25144d56ae3542d67d5f4004",
            "value": "Downloading: 100%"
          }
        },
        "cc2f766ab6594e6caf3946950a739604": {
          "model_module": "@jupyter-widgets/controls",
          "model_name": "FloatProgressModel",
          "model_module_version": "1.5.0",
          "state": {
            "_dom_classes": [],
            "_model_module": "@jupyter-widgets/controls",
            "_model_module_version": "1.5.0",
            "_model_name": "FloatProgressModel",
            "_view_count": null,
            "_view_module": "@jupyter-widgets/controls",
            "_view_module_version": "1.5.0",
            "_view_name": "ProgressView",
            "bar_style": "success",
            "description": "",
            "description_tooltip": null,
            "layout": "IPY_MODEL_36148e78048b4cebb4d6b3f7c02a0fcc",
            "max": 43,
            "min": 0,
            "orientation": "horizontal",
            "style": "IPY_MODEL_0410df3aa63d4886af7d2a3c35a448b0",
            "value": 43
          }
        },
        "f63aba1d8a4144c5818e95217678b090": {
          "model_module": "@jupyter-widgets/controls",
          "model_name": "HTMLModel",
          "model_module_version": "1.5.0",
          "state": {
            "_dom_classes": [],
            "_model_module": "@jupyter-widgets/controls",
            "_model_module_version": "1.5.0",
            "_model_name": "HTMLModel",
            "_view_count": null,
            "_view_module": "@jupyter-widgets/controls",
            "_view_module_version": "1.5.0",
            "_view_name": "HTMLView",
            "description": "",
            "description_tooltip": null,
            "layout": "IPY_MODEL_9a76096eb57647179a03566df7bc53b9",
            "placeholder": "​",
            "style": "IPY_MODEL_679e7dcca56c4355aded97b92d959954",
            "value": " 43.0/43.0 [00:00&lt;00:00, 268B/s]"
          }
        },
        "12c4e761c96f4018a1328527b6735dc8": {
          "model_module": "@jupyter-widgets/base",
          "model_name": "LayoutModel",
          "model_module_version": "1.2.0",
          "state": {
            "_model_module": "@jupyter-widgets/base",
            "_model_module_version": "1.2.0",
            "_model_name": "LayoutModel",
            "_view_count": null,
            "_view_module": "@jupyter-widgets/base",
            "_view_module_version": "1.2.0",
            "_view_name": "LayoutView",
            "align_content": null,
            "align_items": null,
            "align_self": null,
            "border": null,
            "bottom": null,
            "display": null,
            "flex": null,
            "flex_flow": null,
            "grid_area": null,
            "grid_auto_columns": null,
            "grid_auto_flow": null,
            "grid_auto_rows": null,
            "grid_column": null,
            "grid_gap": null,
            "grid_row": null,
            "grid_template_areas": null,
            "grid_template_columns": null,
            "grid_template_rows": null,
            "height": null,
            "justify_content": null,
            "justify_items": null,
            "left": null,
            "margin": null,
            "max_height": null,
            "max_width": null,
            "min_height": null,
            "min_width": null,
            "object_fit": null,
            "object_position": null,
            "order": null,
            "overflow": null,
            "overflow_x": null,
            "overflow_y": null,
            "padding": null,
            "right": null,
            "top": null,
            "visibility": null,
            "width": null
          }
        },
        "f67c4394e09641e3931267f0d11cae9b": {
          "model_module": "@jupyter-widgets/base",
          "model_name": "LayoutModel",
          "model_module_version": "1.2.0",
          "state": {
            "_model_module": "@jupyter-widgets/base",
            "_model_module_version": "1.2.0",
            "_model_name": "LayoutModel",
            "_view_count": null,
            "_view_module": "@jupyter-widgets/base",
            "_view_module_version": "1.2.0",
            "_view_name": "LayoutView",
            "align_content": null,
            "align_items": null,
            "align_self": null,
            "border": null,
            "bottom": null,
            "display": null,
            "flex": null,
            "flex_flow": null,
            "grid_area": null,
            "grid_auto_columns": null,
            "grid_auto_flow": null,
            "grid_auto_rows": null,
            "grid_column": null,
            "grid_gap": null,
            "grid_row": null,
            "grid_template_areas": null,
            "grid_template_columns": null,
            "grid_template_rows": null,
            "height": null,
            "justify_content": null,
            "justify_items": null,
            "left": null,
            "margin": null,
            "max_height": null,
            "max_width": null,
            "min_height": null,
            "min_width": null,
            "object_fit": null,
            "object_position": null,
            "order": null,
            "overflow": null,
            "overflow_x": null,
            "overflow_y": null,
            "padding": null,
            "right": null,
            "top": null,
            "visibility": null,
            "width": null
          }
        },
        "2ccf861d25144d56ae3542d67d5f4004": {
          "model_module": "@jupyter-widgets/controls",
          "model_name": "DescriptionStyleModel",
          "model_module_version": "1.5.0",
          "state": {
            "_model_module": "@jupyter-widgets/controls",
            "_model_module_version": "1.5.0",
            "_model_name": "DescriptionStyleModel",
            "_view_count": null,
            "_view_module": "@jupyter-widgets/base",
            "_view_module_version": "1.2.0",
            "_view_name": "StyleView",
            "description_width": ""
          }
        },
        "36148e78048b4cebb4d6b3f7c02a0fcc": {
          "model_module": "@jupyter-widgets/base",
          "model_name": "LayoutModel",
          "model_module_version": "1.2.0",
          "state": {
            "_model_module": "@jupyter-widgets/base",
            "_model_module_version": "1.2.0",
            "_model_name": "LayoutModel",
            "_view_count": null,
            "_view_module": "@jupyter-widgets/base",
            "_view_module_version": "1.2.0",
            "_view_name": "LayoutView",
            "align_content": null,
            "align_items": null,
            "align_self": null,
            "border": null,
            "bottom": null,
            "display": null,
            "flex": null,
            "flex_flow": null,
            "grid_area": null,
            "grid_auto_columns": null,
            "grid_auto_flow": null,
            "grid_auto_rows": null,
            "grid_column": null,
            "grid_gap": null,
            "grid_row": null,
            "grid_template_areas": null,
            "grid_template_columns": null,
            "grid_template_rows": null,
            "height": null,
            "justify_content": null,
            "justify_items": null,
            "left": null,
            "margin": null,
            "max_height": null,
            "max_width": null,
            "min_height": null,
            "min_width": null,
            "object_fit": null,
            "object_position": null,
            "order": null,
            "overflow": null,
            "overflow_x": null,
            "overflow_y": null,
            "padding": null,
            "right": null,
            "top": null,
            "visibility": null,
            "width": null
          }
        },
        "0410df3aa63d4886af7d2a3c35a448b0": {
          "model_module": "@jupyter-widgets/controls",
          "model_name": "ProgressStyleModel",
          "model_module_version": "1.5.0",
          "state": {
            "_model_module": "@jupyter-widgets/controls",
            "_model_module_version": "1.5.0",
            "_model_name": "ProgressStyleModel",
            "_view_count": null,
            "_view_module": "@jupyter-widgets/base",
            "_view_module_version": "1.2.0",
            "_view_name": "StyleView",
            "bar_color": null,
            "description_width": ""
          }
        },
        "9a76096eb57647179a03566df7bc53b9": {
          "model_module": "@jupyter-widgets/base",
          "model_name": "LayoutModel",
          "model_module_version": "1.2.0",
          "state": {
            "_model_module": "@jupyter-widgets/base",
            "_model_module_version": "1.2.0",
            "_model_name": "LayoutModel",
            "_view_count": null,
            "_view_module": "@jupyter-widgets/base",
            "_view_module_version": "1.2.0",
            "_view_name": "LayoutView",
            "align_content": null,
            "align_items": null,
            "align_self": null,
            "border": null,
            "bottom": null,
            "display": null,
            "flex": null,
            "flex_flow": null,
            "grid_area": null,
            "grid_auto_columns": null,
            "grid_auto_flow": null,
            "grid_auto_rows": null,
            "grid_column": null,
            "grid_gap": null,
            "grid_row": null,
            "grid_template_areas": null,
            "grid_template_columns": null,
            "grid_template_rows": null,
            "height": null,
            "justify_content": null,
            "justify_items": null,
            "left": null,
            "margin": null,
            "max_height": null,
            "max_width": null,
            "min_height": null,
            "min_width": null,
            "object_fit": null,
            "object_position": null,
            "order": null,
            "overflow": null,
            "overflow_x": null,
            "overflow_y": null,
            "padding": null,
            "right": null,
            "top": null,
            "visibility": null,
            "width": null
          }
        },
        "679e7dcca56c4355aded97b92d959954": {
          "model_module": "@jupyter-widgets/controls",
          "model_name": "DescriptionStyleModel",
          "model_module_version": "1.5.0",
          "state": {
            "_model_module": "@jupyter-widgets/controls",
            "_model_module_version": "1.5.0",
            "_model_name": "DescriptionStyleModel",
            "_view_count": null,
            "_view_module": "@jupyter-widgets/base",
            "_view_module_version": "1.2.0",
            "_view_name": "StyleView",
            "description_width": ""
          }
        },
        "6f01dd48b70c499b91ea00cb7f33cc6b": {
          "model_module": "@jupyter-widgets/controls",
          "model_name": "HBoxModel",
          "model_module_version": "1.5.0",
          "state": {
            "_dom_classes": [],
            "_model_module": "@jupyter-widgets/controls",
            "_model_module_version": "1.5.0",
            "_model_name": "HBoxModel",
            "_view_count": null,
            "_view_module": "@jupyter-widgets/controls",
            "_view_module_version": "1.5.0",
            "_view_name": "HBoxView",
            "box_style": "",
            "children": [
              "IPY_MODEL_176098a10ad549cc82163429062443c0",
              "IPY_MODEL_a669fada68aa403794d4e75a8352d1ea",
              "IPY_MODEL_4a368155800749688c53e34cba2389cc"
            ],
            "layout": "IPY_MODEL_ac0fbcda751b472ba1d94f0f1e0f9696"
          }
        },
        "176098a10ad549cc82163429062443c0": {
          "model_module": "@jupyter-widgets/controls",
          "model_name": "HTMLModel",
          "model_module_version": "1.5.0",
          "state": {
            "_dom_classes": [],
            "_model_module": "@jupyter-widgets/controls",
            "_model_module_version": "1.5.0",
            "_model_name": "HTMLModel",
            "_view_count": null,
            "_view_module": "@jupyter-widgets/controls",
            "_view_module_version": "1.5.0",
            "_view_name": "HTMLView",
            "description": "",
            "description_tooltip": null,
            "layout": "IPY_MODEL_065786fb4c104da5a0ff31aeffff7de5",
            "placeholder": "​",
            "style": "IPY_MODEL_a1657c12a6ed4db0b43791fa595c0c9f",
            "value": "Downloading: 100%"
          }
        },
        "a669fada68aa403794d4e75a8352d1ea": {
          "model_module": "@jupyter-widgets/controls",
          "model_name": "FloatProgressModel",
          "model_module_version": "1.5.0",
          "state": {
            "_dom_classes": [],
            "_model_module": "@jupyter-widgets/controls",
            "_model_module_version": "1.5.0",
            "_model_name": "FloatProgressModel",
            "_view_count": null,
            "_view_module": "@jupyter-widgets/controls",
            "_view_module_version": "1.5.0",
            "_view_name": "ProgressView",
            "bar_style": "success",
            "description": "",
            "description_tooltip": null,
            "layout": "IPY_MODEL_8c10b57174ec421fa96c17c00e0b1072",
            "max": 647,
            "min": 0,
            "orientation": "horizontal",
            "style": "IPY_MODEL_cf02f0a9fb584971bb0af95b3aedfc81",
            "value": 647
          }
        },
        "4a368155800749688c53e34cba2389cc": {
          "model_module": "@jupyter-widgets/controls",
          "model_name": "HTMLModel",
          "model_module_version": "1.5.0",
          "state": {
            "_dom_classes": [],
            "_model_module": "@jupyter-widgets/controls",
            "_model_module_version": "1.5.0",
            "_model_name": "HTMLModel",
            "_view_count": null,
            "_view_module": "@jupyter-widgets/controls",
            "_view_module_version": "1.5.0",
            "_view_name": "HTMLView",
            "description": "",
            "description_tooltip": null,
            "layout": "IPY_MODEL_32418c6738754052b4fee37d119e58ae",
            "placeholder": "​",
            "style": "IPY_MODEL_0e81b995afa14d29aa13e3958290b520",
            "value": " 647/647 [00:00&lt;00:00, 4.53kB/s]"
          }
        },
        "ac0fbcda751b472ba1d94f0f1e0f9696": {
          "model_module": "@jupyter-widgets/base",
          "model_name": "LayoutModel",
          "model_module_version": "1.2.0",
          "state": {
            "_model_module": "@jupyter-widgets/base",
            "_model_module_version": "1.2.0",
            "_model_name": "LayoutModel",
            "_view_count": null,
            "_view_module": "@jupyter-widgets/base",
            "_view_module_version": "1.2.0",
            "_view_name": "LayoutView",
            "align_content": null,
            "align_items": null,
            "align_self": null,
            "border": null,
            "bottom": null,
            "display": null,
            "flex": null,
            "flex_flow": null,
            "grid_area": null,
            "grid_auto_columns": null,
            "grid_auto_flow": null,
            "grid_auto_rows": null,
            "grid_column": null,
            "grid_gap": null,
            "grid_row": null,
            "grid_template_areas": null,
            "grid_template_columns": null,
            "grid_template_rows": null,
            "height": null,
            "justify_content": null,
            "justify_items": null,
            "left": null,
            "margin": null,
            "max_height": null,
            "max_width": null,
            "min_height": null,
            "min_width": null,
            "object_fit": null,
            "object_position": null,
            "order": null,
            "overflow": null,
            "overflow_x": null,
            "overflow_y": null,
            "padding": null,
            "right": null,
            "top": null,
            "visibility": null,
            "width": null
          }
        },
        "065786fb4c104da5a0ff31aeffff7de5": {
          "model_module": "@jupyter-widgets/base",
          "model_name": "LayoutModel",
          "model_module_version": "1.2.0",
          "state": {
            "_model_module": "@jupyter-widgets/base",
            "_model_module_version": "1.2.0",
            "_model_name": "LayoutModel",
            "_view_count": null,
            "_view_module": "@jupyter-widgets/base",
            "_view_module_version": "1.2.0",
            "_view_name": "LayoutView",
            "align_content": null,
            "align_items": null,
            "align_self": null,
            "border": null,
            "bottom": null,
            "display": null,
            "flex": null,
            "flex_flow": null,
            "grid_area": null,
            "grid_auto_columns": null,
            "grid_auto_flow": null,
            "grid_auto_rows": null,
            "grid_column": null,
            "grid_gap": null,
            "grid_row": null,
            "grid_template_areas": null,
            "grid_template_columns": null,
            "grid_template_rows": null,
            "height": null,
            "justify_content": null,
            "justify_items": null,
            "left": null,
            "margin": null,
            "max_height": null,
            "max_width": null,
            "min_height": null,
            "min_width": null,
            "object_fit": null,
            "object_position": null,
            "order": null,
            "overflow": null,
            "overflow_x": null,
            "overflow_y": null,
            "padding": null,
            "right": null,
            "top": null,
            "visibility": null,
            "width": null
          }
        },
        "a1657c12a6ed4db0b43791fa595c0c9f": {
          "model_module": "@jupyter-widgets/controls",
          "model_name": "DescriptionStyleModel",
          "model_module_version": "1.5.0",
          "state": {
            "_model_module": "@jupyter-widgets/controls",
            "_model_module_version": "1.5.0",
            "_model_name": "DescriptionStyleModel",
            "_view_count": null,
            "_view_module": "@jupyter-widgets/base",
            "_view_module_version": "1.2.0",
            "_view_name": "StyleView",
            "description_width": ""
          }
        },
        "8c10b57174ec421fa96c17c00e0b1072": {
          "model_module": "@jupyter-widgets/base",
          "model_name": "LayoutModel",
          "model_module_version": "1.2.0",
          "state": {
            "_model_module": "@jupyter-widgets/base",
            "_model_module_version": "1.2.0",
            "_model_name": "LayoutModel",
            "_view_count": null,
            "_view_module": "@jupyter-widgets/base",
            "_view_module_version": "1.2.0",
            "_view_name": "LayoutView",
            "align_content": null,
            "align_items": null,
            "align_self": null,
            "border": null,
            "bottom": null,
            "display": null,
            "flex": null,
            "flex_flow": null,
            "grid_area": null,
            "grid_auto_columns": null,
            "grid_auto_flow": null,
            "grid_auto_rows": null,
            "grid_column": null,
            "grid_gap": null,
            "grid_row": null,
            "grid_template_areas": null,
            "grid_template_columns": null,
            "grid_template_rows": null,
            "height": null,
            "justify_content": null,
            "justify_items": null,
            "left": null,
            "margin": null,
            "max_height": null,
            "max_width": null,
            "min_height": null,
            "min_width": null,
            "object_fit": null,
            "object_position": null,
            "order": null,
            "overflow": null,
            "overflow_x": null,
            "overflow_y": null,
            "padding": null,
            "right": null,
            "top": null,
            "visibility": null,
            "width": null
          }
        },
        "cf02f0a9fb584971bb0af95b3aedfc81": {
          "model_module": "@jupyter-widgets/controls",
          "model_name": "ProgressStyleModel",
          "model_module_version": "1.5.0",
          "state": {
            "_model_module": "@jupyter-widgets/controls",
            "_model_module_version": "1.5.0",
            "_model_name": "ProgressStyleModel",
            "_view_count": null,
            "_view_module": "@jupyter-widgets/base",
            "_view_module_version": "1.2.0",
            "_view_name": "StyleView",
            "bar_color": null,
            "description_width": ""
          }
        },
        "32418c6738754052b4fee37d119e58ae": {
          "model_module": "@jupyter-widgets/base",
          "model_name": "LayoutModel",
          "model_module_version": "1.2.0",
          "state": {
            "_model_module": "@jupyter-widgets/base",
            "_model_module_version": "1.2.0",
            "_model_name": "LayoutModel",
            "_view_count": null,
            "_view_module": "@jupyter-widgets/base",
            "_view_module_version": "1.2.0",
            "_view_name": "LayoutView",
            "align_content": null,
            "align_items": null,
            "align_self": null,
            "border": null,
            "bottom": null,
            "display": null,
            "flex": null,
            "flex_flow": null,
            "grid_area": null,
            "grid_auto_columns": null,
            "grid_auto_flow": null,
            "grid_auto_rows": null,
            "grid_column": null,
            "grid_gap": null,
            "grid_row": null,
            "grid_template_areas": null,
            "grid_template_columns": null,
            "grid_template_rows": null,
            "height": null,
            "justify_content": null,
            "justify_items": null,
            "left": null,
            "margin": null,
            "max_height": null,
            "max_width": null,
            "min_height": null,
            "min_width": null,
            "object_fit": null,
            "object_position": null,
            "order": null,
            "overflow": null,
            "overflow_x": null,
            "overflow_y": null,
            "padding": null,
            "right": null,
            "top": null,
            "visibility": null,
            "width": null
          }
        },
        "0e81b995afa14d29aa13e3958290b520": {
          "model_module": "@jupyter-widgets/controls",
          "model_name": "DescriptionStyleModel",
          "model_module_version": "1.5.0",
          "state": {
            "_model_module": "@jupyter-widgets/controls",
            "_model_module_version": "1.5.0",
            "_model_name": "DescriptionStyleModel",
            "_view_count": null,
            "_view_module": "@jupyter-widgets/base",
            "_view_module_version": "1.2.0",
            "_view_name": "StyleView",
            "description_width": ""
          }
        },
        "e100f7af214c4a5e9558801267527e82": {
          "model_module": "@jupyter-widgets/controls",
          "model_name": "HBoxModel",
          "model_module_version": "1.5.0",
          "state": {
            "_dom_classes": [],
            "_model_module": "@jupyter-widgets/controls",
            "_model_module_version": "1.5.0",
            "_model_name": "HBoxModel",
            "_view_count": null,
            "_view_module": "@jupyter-widgets/controls",
            "_view_module_version": "1.5.0",
            "_view_name": "HBoxView",
            "box_style": "",
            "children": [
              "IPY_MODEL_2baaf906ef284c2480b7cb1b17157e55",
              "IPY_MODEL_f2d6ce64048549a9b74494ffcd80b1f6",
              "IPY_MODEL_8d710fd233784736b3c304cadd570ea4"
            ],
            "layout": "IPY_MODEL_e7a278ad87c147b891d78cc94abec82e"
          }
        },
        "2baaf906ef284c2480b7cb1b17157e55": {
          "model_module": "@jupyter-widgets/controls",
          "model_name": "HTMLModel",
          "model_module_version": "1.5.0",
          "state": {
            "_dom_classes": [],
            "_model_module": "@jupyter-widgets/controls",
            "_model_module_version": "1.5.0",
            "_model_name": "HTMLModel",
            "_view_count": null,
            "_view_module": "@jupyter-widgets/controls",
            "_view_module_version": "1.5.0",
            "_view_name": "HTMLView",
            "description": "",
            "description_tooltip": null,
            "layout": "IPY_MODEL_e15205c2e25b430b96c9c558905db7fc",
            "placeholder": "​",
            "style": "IPY_MODEL_cd4c405d052d4490b46b27d9c8e08612",
            "value": "100%"
          }
        },
        "f2d6ce64048549a9b74494ffcd80b1f6": {
          "model_module": "@jupyter-widgets/controls",
          "model_name": "FloatProgressModel",
          "model_module_version": "1.5.0",
          "state": {
            "_dom_classes": [],
            "_model_module": "@jupyter-widgets/controls",
            "_model_module_version": "1.5.0",
            "_model_name": "FloatProgressModel",
            "_view_count": null,
            "_view_module": "@jupyter-widgets/controls",
            "_view_module_version": "1.5.0",
            "_view_name": "ProgressView",
            "bar_style": "success",
            "description": "",
            "description_tooltip": null,
            "layout": "IPY_MODEL_28016e2752354f20b69ef51ff6cbe0f4",
            "max": 2,
            "min": 0,
            "orientation": "horizontal",
            "style": "IPY_MODEL_643e09947e42482e8027f67d78363d5a",
            "value": 2
          }
        },
        "8d710fd233784736b3c304cadd570ea4": {
          "model_module": "@jupyter-widgets/controls",
          "model_name": "HTMLModel",
          "model_module_version": "1.5.0",
          "state": {
            "_dom_classes": [],
            "_model_module": "@jupyter-widgets/controls",
            "_model_module_version": "1.5.0",
            "_model_name": "HTMLModel",
            "_view_count": null,
            "_view_module": "@jupyter-widgets/controls",
            "_view_module_version": "1.5.0",
            "_view_name": "HTMLView",
            "description": "",
            "description_tooltip": null,
            "layout": "IPY_MODEL_d1e909628863411e8fd4d438a5e101db",
            "placeholder": "​",
            "style": "IPY_MODEL_774e938b6c9d4f84ad27e2941b9776cc",
            "value": " 2/2 [00:00&lt;00:00, 25.67it/s]"
          }
        },
        "e7a278ad87c147b891d78cc94abec82e": {
          "model_module": "@jupyter-widgets/base",
          "model_name": "LayoutModel",
          "model_module_version": "1.2.0",
          "state": {
            "_model_module": "@jupyter-widgets/base",
            "_model_module_version": "1.2.0",
            "_model_name": "LayoutModel",
            "_view_count": null,
            "_view_module": "@jupyter-widgets/base",
            "_view_module_version": "1.2.0",
            "_view_name": "LayoutView",
            "align_content": null,
            "align_items": null,
            "align_self": null,
            "border": null,
            "bottom": null,
            "display": null,
            "flex": null,
            "flex_flow": null,
            "grid_area": null,
            "grid_auto_columns": null,
            "grid_auto_flow": null,
            "grid_auto_rows": null,
            "grid_column": null,
            "grid_gap": null,
            "grid_row": null,
            "grid_template_areas": null,
            "grid_template_columns": null,
            "grid_template_rows": null,
            "height": null,
            "justify_content": null,
            "justify_items": null,
            "left": null,
            "margin": null,
            "max_height": null,
            "max_width": null,
            "min_height": null,
            "min_width": null,
            "object_fit": null,
            "object_position": null,
            "order": null,
            "overflow": null,
            "overflow_x": null,
            "overflow_y": null,
            "padding": null,
            "right": null,
            "top": null,
            "visibility": null,
            "width": null
          }
        },
        "e15205c2e25b430b96c9c558905db7fc": {
          "model_module": "@jupyter-widgets/base",
          "model_name": "LayoutModel",
          "model_module_version": "1.2.0",
          "state": {
            "_model_module": "@jupyter-widgets/base",
            "_model_module_version": "1.2.0",
            "_model_name": "LayoutModel",
            "_view_count": null,
            "_view_module": "@jupyter-widgets/base",
            "_view_module_version": "1.2.0",
            "_view_name": "LayoutView",
            "align_content": null,
            "align_items": null,
            "align_self": null,
            "border": null,
            "bottom": null,
            "display": null,
            "flex": null,
            "flex_flow": null,
            "grid_area": null,
            "grid_auto_columns": null,
            "grid_auto_flow": null,
            "grid_auto_rows": null,
            "grid_column": null,
            "grid_gap": null,
            "grid_row": null,
            "grid_template_areas": null,
            "grid_template_columns": null,
            "grid_template_rows": null,
            "height": null,
            "justify_content": null,
            "justify_items": null,
            "left": null,
            "margin": null,
            "max_height": null,
            "max_width": null,
            "min_height": null,
            "min_width": null,
            "object_fit": null,
            "object_position": null,
            "order": null,
            "overflow": null,
            "overflow_x": null,
            "overflow_y": null,
            "padding": null,
            "right": null,
            "top": null,
            "visibility": null,
            "width": null
          }
        },
        "cd4c405d052d4490b46b27d9c8e08612": {
          "model_module": "@jupyter-widgets/controls",
          "model_name": "DescriptionStyleModel",
          "model_module_version": "1.5.0",
          "state": {
            "_model_module": "@jupyter-widgets/controls",
            "_model_module_version": "1.5.0",
            "_model_name": "DescriptionStyleModel",
            "_view_count": null,
            "_view_module": "@jupyter-widgets/base",
            "_view_module_version": "1.2.0",
            "_view_name": "StyleView",
            "description_width": ""
          }
        },
        "28016e2752354f20b69ef51ff6cbe0f4": {
          "model_module": "@jupyter-widgets/base",
          "model_name": "LayoutModel",
          "model_module_version": "1.2.0",
          "state": {
            "_model_module": "@jupyter-widgets/base",
            "_model_module_version": "1.2.0",
            "_model_name": "LayoutModel",
            "_view_count": null,
            "_view_module": "@jupyter-widgets/base",
            "_view_module_version": "1.2.0",
            "_view_name": "LayoutView",
            "align_content": null,
            "align_items": null,
            "align_self": null,
            "border": null,
            "bottom": null,
            "display": null,
            "flex": null,
            "flex_flow": null,
            "grid_area": null,
            "grid_auto_columns": null,
            "grid_auto_flow": null,
            "grid_auto_rows": null,
            "grid_column": null,
            "grid_gap": null,
            "grid_row": null,
            "grid_template_areas": null,
            "grid_template_columns": null,
            "grid_template_rows": null,
            "height": null,
            "justify_content": null,
            "justify_items": null,
            "left": null,
            "margin": null,
            "max_height": null,
            "max_width": null,
            "min_height": null,
            "min_width": null,
            "object_fit": null,
            "object_position": null,
            "order": null,
            "overflow": null,
            "overflow_x": null,
            "overflow_y": null,
            "padding": null,
            "right": null,
            "top": null,
            "visibility": null,
            "width": null
          }
        },
        "643e09947e42482e8027f67d78363d5a": {
          "model_module": "@jupyter-widgets/controls",
          "model_name": "ProgressStyleModel",
          "model_module_version": "1.5.0",
          "state": {
            "_model_module": "@jupyter-widgets/controls",
            "_model_module_version": "1.5.0",
            "_model_name": "ProgressStyleModel",
            "_view_count": null,
            "_view_module": "@jupyter-widgets/base",
            "_view_module_version": "1.2.0",
            "_view_name": "StyleView",
            "bar_color": null,
            "description_width": ""
          }
        },
        "d1e909628863411e8fd4d438a5e101db": {
          "model_module": "@jupyter-widgets/base",
          "model_name": "LayoutModel",
          "model_module_version": "1.2.0",
          "state": {
            "_model_module": "@jupyter-widgets/base",
            "_model_module_version": "1.2.0",
            "_model_name": "LayoutModel",
            "_view_count": null,
            "_view_module": "@jupyter-widgets/base",
            "_view_module_version": "1.2.0",
            "_view_name": "LayoutView",
            "align_content": null,
            "align_items": null,
            "align_self": null,
            "border": null,
            "bottom": null,
            "display": null,
            "flex": null,
            "flex_flow": null,
            "grid_area": null,
            "grid_auto_columns": null,
            "grid_auto_flow": null,
            "grid_auto_rows": null,
            "grid_column": null,
            "grid_gap": null,
            "grid_row": null,
            "grid_template_areas": null,
            "grid_template_columns": null,
            "grid_template_rows": null,
            "height": null,
            "justify_content": null,
            "justify_items": null,
            "left": null,
            "margin": null,
            "max_height": null,
            "max_width": null,
            "min_height": null,
            "min_width": null,
            "object_fit": null,
            "object_position": null,
            "order": null,
            "overflow": null,
            "overflow_x": null,
            "overflow_y": null,
            "padding": null,
            "right": null,
            "top": null,
            "visibility": null,
            "width": null
          }
        },
        "774e938b6c9d4f84ad27e2941b9776cc": {
          "model_module": "@jupyter-widgets/controls",
          "model_name": "DescriptionStyleModel",
          "model_module_version": "1.5.0",
          "state": {
            "_model_module": "@jupyter-widgets/controls",
            "_model_module_version": "1.5.0",
            "_model_name": "DescriptionStyleModel",
            "_view_count": null,
            "_view_module": "@jupyter-widgets/base",
            "_view_module_version": "1.2.0",
            "_view_name": "StyleView",
            "description_width": ""
          }
        }
      }
    }
  },
  "cells": [
    {
      "cell_type": "markdown",
      "metadata": {
        "id": "view-in-github",
        "colab_type": "text"
      },
      "source": [
        "<a href=\"https://colab.research.google.com/github/leolellisr/deep_learning_projects/blob/main/10_LanguageModel_with_Self_Attention3/10_LanguageModel_with_Self_Attention3_leolellisr.ipynb\" target=\"_parent\"><img src=\"https://colab.research.google.com/assets/colab-badge.svg\" alt=\"Open In Colab\"/></a>"
      ]
    },
    {
      "cell_type": "code",
      "source": [
        "nome = \"Leonardo de Lellis Rossi RA261900\"\n",
        "print(f'Meu nome é {nome}')\n",
        "\n",
        "last = '22/06/04_17h13'\n",
        "print(f'Last update: {last}')\n"
      ],
      "metadata": {
        "id": "jOdQB41_4ZxG",
        "colab": {
          "base_uri": "https://localhost:8080/"
        },
        "outputId": "a5f42634-33ce-44e5-e3d6-0a3c01f00356"
      },
      "execution_count": 1,
      "outputs": [
        {
          "output_type": "stream",
          "name": "stdout",
          "text": [
            "Meu nome é Leonardo de Lellis Rossi RA261900\n",
            "Last update: 22/06/04_17h13\n"
          ]
        }
      ]
    },
    {
      "cell_type": "markdown",
      "metadata": {
        "id": "2IbuChoAPMEn"
      },
      "source": [
        "#  Exercício - Aula 10: Refeito Modelo de Linguagem com auto-atenção"
      ]
    },
    {
      "cell_type": "markdown",
      "metadata": {
        "id": "p_DBb0-Klwf2"
      },
      "source": [
        "Este exercício é similar ao da Aula 8, mas iremos agora treinar uma rede neural com **duas camadas** de auto-atenção **causais** para prever a próxima palavra de um texto, data as palavras anteriores como entrada. \n",
        "\n",
        "Iremos também trabalhar com sequencias de tamanho variável.\n",
        "\n",
        "Na camada de auto-atenção, não se esqueça de implementar:\n",
        "- Embeddings de posição\n",
        "- Projeções lineares (WQ, WK, WV, WO)\n",
        "- Conexões residuais\n",
        "- Camada de feed forward (2-layer MLP)\n",
        "\n",
        "\n",
        "O dataset usado neste exercício (BrWaC) possui um tamanho razoável e você vai precisar rodar seus experimentos com GPU.\n",
        "\n",
        "Alguns conselhos úteis:\n",
        "- **ATENÇÃO:** o dataset é bem grande. Não dê comando de imprimí-lo.\n",
        "- Durante a depuração, faça seu dataset ficar bem pequeno, para que a depuração seja mais rápida e não precise de GPU. Somente ligue a GPU quando o seu laço de treinamento já está funcionando\n",
        "- Não deixe para fazer esse exercício na véspera. Ele é trabalhoso."
      ]
    },
    {
      "cell_type": "code",
      "source": [
        "# iremos utilizar a biblioteca dos transformers para ter acesso ao tokenizador do BERT.\n",
        "!pip install transformers"
      ],
      "metadata": {
        "colab": {
          "base_uri": "https://localhost:8080/"
        },
        "id": "3twP0YJC4jmJ",
        "outputId": "6f6aa554-c90b-4ba3-f490-7bc2f381d1b1"
      },
      "execution_count": 2,
      "outputs": [
        {
          "output_type": "stream",
          "name": "stdout",
          "text": [
            "Looking in indexes: https://pypi.org/simple, https://us-python.pkg.dev/colab-wheels/public/simple/\n",
            "Collecting transformers\n",
            "  Downloading transformers-4.19.2-py3-none-any.whl (4.2 MB)\n",
            "\u001b[K     |████████████████████████████████| 4.2 MB 14.0 MB/s \n",
            "\u001b[?25hCollecting pyyaml>=5.1\n",
            "  Downloading PyYAML-6.0-cp37-cp37m-manylinux_2_5_x86_64.manylinux1_x86_64.manylinux_2_12_x86_64.manylinux2010_x86_64.whl (596 kB)\n",
            "\u001b[K     |████████████████████████████████| 596 kB 30.4 MB/s \n",
            "\u001b[?25hRequirement already satisfied: packaging>=20.0 in /usr/local/lib/python3.7/dist-packages (from transformers) (21.3)\n",
            "Requirement already satisfied: importlib-metadata in /usr/local/lib/python3.7/dist-packages (from transformers) (4.11.4)\n",
            "Requirement already satisfied: regex!=2019.12.17 in /usr/local/lib/python3.7/dist-packages (from transformers) (2019.12.20)\n",
            "Requirement already satisfied: filelock in /usr/local/lib/python3.7/dist-packages (from transformers) (3.7.0)\n",
            "Requirement already satisfied: numpy>=1.17 in /usr/local/lib/python3.7/dist-packages (from transformers) (1.21.6)\n",
            "Collecting huggingface-hub<1.0,>=0.1.0\n",
            "  Downloading huggingface_hub-0.7.0-py3-none-any.whl (86 kB)\n",
            "\u001b[K     |████████████████████████████████| 86 kB 5.7 MB/s \n",
            "\u001b[?25hRequirement already satisfied: tqdm>=4.27 in /usr/local/lib/python3.7/dist-packages (from transformers) (4.64.0)\n",
            "Requirement already satisfied: requests in /usr/local/lib/python3.7/dist-packages (from transformers) (2.23.0)\n",
            "Collecting tokenizers!=0.11.3,<0.13,>=0.11.1\n",
            "  Downloading tokenizers-0.12.1-cp37-cp37m-manylinux_2_12_x86_64.manylinux2010_x86_64.whl (6.6 MB)\n",
            "\u001b[K     |████████████████████████████████| 6.6 MB 49.2 MB/s \n",
            "\u001b[?25hRequirement already satisfied: typing-extensions>=3.7.4.3 in /usr/local/lib/python3.7/dist-packages (from huggingface-hub<1.0,>=0.1.0->transformers) (4.2.0)\n",
            "Requirement already satisfied: pyparsing!=3.0.5,>=2.0.2 in /usr/local/lib/python3.7/dist-packages (from packaging>=20.0->transformers) (3.0.9)\n",
            "Requirement already satisfied: zipp>=0.5 in /usr/local/lib/python3.7/dist-packages (from importlib-metadata->transformers) (3.8.0)\n",
            "Requirement already satisfied: certifi>=2017.4.17 in /usr/local/lib/python3.7/dist-packages (from requests->transformers) (2022.5.18.1)\n",
            "Requirement already satisfied: idna<3,>=2.5 in /usr/local/lib/python3.7/dist-packages (from requests->transformers) (2.10)\n",
            "Requirement already satisfied: urllib3!=1.25.0,!=1.25.1,<1.26,>=1.21.1 in /usr/local/lib/python3.7/dist-packages (from requests->transformers) (1.24.3)\n",
            "Requirement already satisfied: chardet<4,>=3.0.2 in /usr/local/lib/python3.7/dist-packages (from requests->transformers) (3.0.4)\n",
            "Installing collected packages: pyyaml, tokenizers, huggingface-hub, transformers\n",
            "  Attempting uninstall: pyyaml\n",
            "    Found existing installation: PyYAML 3.13\n",
            "    Uninstalling PyYAML-3.13:\n",
            "      Successfully uninstalled PyYAML-3.13\n",
            "Successfully installed huggingface-hub-0.7.0 pyyaml-6.0 tokenizers-0.12.1 transformers-4.19.2\n"
          ]
        }
      ]
    },
    {
      "cell_type": "markdown",
      "metadata": {
        "id": "YnyhJZtTRNMx"
      },
      "source": [
        "## Importação dos pacotes"
      ]
    },
    {
      "cell_type": "code",
      "metadata": {
        "id": "qlIOVCajPWcU"
      },
      "source": [
        "import collections\n",
        "import itertools\n",
        "import functools\n",
        "import math\n",
        "import random\n",
        "\n",
        "import torch\n",
        "import torch.nn as nn\n",
        "import numpy as np\n",
        "from torch.utils.data import DataLoader\n",
        "from tqdm import tqdm_notebook\n"
      ],
      "execution_count": 3,
      "outputs": []
    },
    {
      "cell_type": "code",
      "source": [
        "debug = False\n",
        "checkinpoint = True\n",
        "save_in_drive = True\n",
        "\n",
        "params = {\n",
        "    'max_examples': 150_000_000,\n",
        "    'eval_every_steps': 10000,\n",
        "    'lr': 3e-4,\n",
        "    'batch_size': 128,\n",
        "    'embedding_dim': 128,\n",
        "    'hidden_size': 2*128,\n",
        "    'optimizer': 'Adam',\n",
        "    'retrain': True,\n",
        "    'path_saved_model': 'gdrive/MyDrive/Colab Notebooks/best_model_',\n",
        "    'path_saved_datasets': 'gdrive/MyDrive/Colab Notebooks/ds_',\n",
        "    'download_ds': False,\n",
        "    'aula': 'Aula10',\n",
        "    'max_seq_length': 9,\n",
        "    'train_examples': 90_000,\n",
        "    'valid_examples': 40_000,\n",
        "    'test_examples': 25_000,\n",
        "    'n_heads':4,\n",
        "    'last_step': 280000\n",
        "}\n",
        "params['path_saved_model'] = params['path_saved_model']+params['aula']+'_BS'+str(params['batch_size'])+'_HS'+str(params['hidden_size'])+'_EmbDim'+str(params['embedding_dim'])+'_MaxEx'+str(params['max_examples'])+'.pt'"
      ],
      "metadata": {
        "id": "dnfTE2XvSr3X"
      },
      "execution_count": 4,
      "outputs": []
    },
    {
      "cell_type": "code",
      "source": [
        "# Check which GPU we are using\n",
        "!nvidia-smi"
      ],
      "metadata": {
        "id": "w9f3PfifAwpU",
        "colab": {
          "base_uri": "https://localhost:8080/"
        },
        "outputId": "dc3162e3-be4e-45fd-a704-a6bf4d200d8a"
      },
      "execution_count": 5,
      "outputs": [
        {
          "output_type": "stream",
          "name": "stdout",
          "text": [
            "Sat Jun  4 20:15:46 2022       \n",
            "+-----------------------------------------------------------------------------+\n",
            "| NVIDIA-SMI 460.32.03    Driver Version: 460.32.03    CUDA Version: 11.2     |\n",
            "|-------------------------------+----------------------+----------------------+\n",
            "| GPU  Name        Persistence-M| Bus-Id        Disp.A | Volatile Uncorr. ECC |\n",
            "| Fan  Temp  Perf  Pwr:Usage/Cap|         Memory-Usage | GPU-Util  Compute M. |\n",
            "|                               |                      |               MIG M. |\n",
            "|===============================+======================+======================|\n",
            "|   0  Tesla T4            Off  | 00000000:00:04.0 Off |                    0 |\n",
            "| N/A   42C    P8    11W /  70W |      0MiB / 15109MiB |      0%      Default |\n",
            "|                               |                      |                  N/A |\n",
            "+-------------------------------+----------------------+----------------------+\n",
            "                                                                               \n",
            "+-----------------------------------------------------------------------------+\n",
            "| Processes:                                                                  |\n",
            "|  GPU   GI   CI        PID   Type   Process name                  GPU Memory |\n",
            "|        ID   ID                                                   Usage      |\n",
            "|=============================================================================|\n",
            "|  No running processes found                                                 |\n",
            "+-----------------------------------------------------------------------------+\n"
          ]
        }
      ]
    },
    {
      "cell_type": "code",
      "source": [
        ""
      ],
      "metadata": {
        "id": "whTCe2i7AtoV"
      },
      "execution_count": 5,
      "outputs": []
    },
    {
      "cell_type": "code",
      "source": [
        "def set_seeds():\n",
        "  random.seed(123)\n",
        "  np.random.seed(123)\n",
        "  torch.manual_seed(123)\n",
        "  torch.cuda.manual_seed(123)\n",
        "set_seeds()"
      ],
      "metadata": {
        "id": "-O1Gy-aeUbv2"
      },
      "execution_count": 6,
      "outputs": []
    },
    {
      "cell_type": "markdown",
      "source": [
        "# Neptune config"
      ],
      "metadata": {
        "id": "9D9O0IdFUKdA"
      }
    },
    {
      "cell_type": "code",
      "source": [
        " !pip install -U neptune-client\n",
        " import neptune.new as neptune"
      ],
      "metadata": {
        "id": "Ua-dPVPgUM3k",
        "colab": {
          "base_uri": "https://localhost:8080/"
        },
        "outputId": "dd62ed6d-e17d-4475-faca-dafa12963c1b"
      },
      "execution_count": 7,
      "outputs": [
        {
          "output_type": "stream",
          "name": "stdout",
          "text": [
            "Looking in indexes: https://pypi.org/simple, https://us-python.pkg.dev/colab-wheels/public/simple/\n",
            "Collecting neptune-client\n",
            "  Downloading neptune-client-0.16.3.tar.gz (317 kB)\n",
            "\u001b[K     |████████████████████████████████| 317 kB 21.0 MB/s \n",
            "\u001b[?25hCollecting bravado\n",
            "  Downloading bravado-11.0.3-py2.py3-none-any.whl (38 kB)\n",
            "Requirement already satisfied: click>=7.0 in /usr/local/lib/python3.7/dist-packages (from neptune-client) (7.1.2)\n",
            "Collecting future>=0.17.1\n",
            "  Downloading future-0.18.2.tar.gz (829 kB)\n",
            "\u001b[K     |████████████████████████████████| 829 kB 59.4 MB/s \n",
            "\u001b[?25hRequirement already satisfied: oauthlib>=2.1.0 in /usr/local/lib/python3.7/dist-packages (from neptune-client) (3.2.0)\n",
            "Requirement already satisfied: pandas in /usr/local/lib/python3.7/dist-packages (from neptune-client) (1.3.5)\n",
            "Requirement already satisfied: Pillow>=1.1.6 in /usr/local/lib/python3.7/dist-packages (from neptune-client) (7.1.2)\n",
            "Collecting PyJWT\n",
            "  Downloading PyJWT-2.4.0-py3-none-any.whl (18 kB)\n",
            "Requirement already satisfied: requests>=2.20.0 in /usr/local/lib/python3.7/dist-packages (from neptune-client) (2.23.0)\n",
            "Requirement already satisfied: requests-oauthlib>=1.0.0 in /usr/local/lib/python3.7/dist-packages (from neptune-client) (1.3.1)\n",
            "Requirement already satisfied: six>=1.12.0 in /usr/local/lib/python3.7/dist-packages (from neptune-client) (1.15.0)\n",
            "Collecting websocket-client!=1.0.0,>=0.35.0\n",
            "  Downloading websocket_client-1.3.2-py3-none-any.whl (54 kB)\n",
            "\u001b[K     |████████████████████████████████| 54 kB 2.9 MB/s \n",
            "\u001b[?25hCollecting GitPython>=2.0.8\n",
            "  Downloading GitPython-3.1.27-py3-none-any.whl (181 kB)\n",
            "\u001b[K     |████████████████████████████████| 181 kB 62.2 MB/s \n",
            "\u001b[?25hCollecting boto3>=1.16.0\n",
            "  Downloading boto3-1.24.2-py3-none-any.whl (132 kB)\n",
            "\u001b[K     |████████████████████████████████| 132 kB 69.9 MB/s \n",
            "\u001b[?25hRequirement already satisfied: packaging in /usr/local/lib/python3.7/dist-packages (from neptune-client) (21.3)\n",
            "Requirement already satisfied: urllib3 in /usr/local/lib/python3.7/dist-packages (from neptune-client) (1.24.3)\n",
            "Collecting swagger-spec-validator>=2.7.4\n",
            "  Downloading swagger_spec_validator-2.7.4-py2.py3-none-any.whl (27 kB)\n",
            "Requirement already satisfied: psutil in /usr/local/lib/python3.7/dist-packages (from neptune-client) (5.4.8)\n",
            "Collecting s3transfer<0.7.0,>=0.6.0\n",
            "  Downloading s3transfer-0.6.0-py3-none-any.whl (79 kB)\n",
            "\u001b[K     |████████████████████████████████| 79 kB 8.9 MB/s \n",
            "\u001b[?25hCollecting jmespath<2.0.0,>=0.7.1\n",
            "  Downloading jmespath-1.0.0-py3-none-any.whl (23 kB)\n",
            "Collecting botocore<1.28.0,>=1.27.2\n",
            "  Downloading botocore-1.27.2-py3-none-any.whl (8.8 MB)\n",
            "\u001b[K     |████████████████████████████████| 8.8 MB 53.9 MB/s \n",
            "\u001b[?25hCollecting urllib3\n",
            "  Downloading urllib3-1.26.9-py2.py3-none-any.whl (138 kB)\n",
            "\u001b[K     |████████████████████████████████| 138 kB 72.8 MB/s \n",
            "\u001b[?25hRequirement already satisfied: python-dateutil<3.0.0,>=2.1 in /usr/local/lib/python3.7/dist-packages (from botocore<1.28.0,>=1.27.2->boto3>=1.16.0->neptune-client) (2.8.2)\n",
            "Requirement already satisfied: typing-extensions>=3.7.4.3 in /usr/local/lib/python3.7/dist-packages (from GitPython>=2.0.8->neptune-client) (4.2.0)\n",
            "Collecting gitdb<5,>=4.0.1\n",
            "  Downloading gitdb-4.0.9-py3-none-any.whl (63 kB)\n",
            "\u001b[K     |████████████████████████████████| 63 kB 2.0 MB/s \n",
            "\u001b[?25hCollecting smmap<6,>=3.0.1\n",
            "  Downloading smmap-5.0.0-py3-none-any.whl (24 kB)\n",
            "Requirement already satisfied: idna<3,>=2.5 in /usr/local/lib/python3.7/dist-packages (from requests>=2.20.0->neptune-client) (2.10)\n",
            "Requirement already satisfied: chardet<4,>=3.0.2 in /usr/local/lib/python3.7/dist-packages (from requests>=2.20.0->neptune-client) (3.0.4)\n",
            "Requirement already satisfied: certifi>=2017.4.17 in /usr/local/lib/python3.7/dist-packages (from requests>=2.20.0->neptune-client) (2022.5.18.1)\n",
            "Collecting urllib3\n",
            "  Downloading urllib3-1.25.11-py2.py3-none-any.whl (127 kB)\n",
            "\u001b[K     |████████████████████████████████| 127 kB 78.6 MB/s \n",
            "\u001b[?25hRequirement already satisfied: pyyaml in /usr/local/lib/python3.7/dist-packages (from swagger-spec-validator>=2.7.4->neptune-client) (6.0)\n",
            "Requirement already satisfied: jsonschema in /usr/local/lib/python3.7/dist-packages (from swagger-spec-validator>=2.7.4->neptune-client) (4.3.3)\n",
            "Collecting simplejson\n",
            "  Downloading simplejson-3.17.6-cp37-cp37m-manylinux_2_5_x86_64.manylinux1_x86_64.manylinux_2_12_x86_64.manylinux2010_x86_64.whl (130 kB)\n",
            "\u001b[K     |████████████████████████████████| 130 kB 74.0 MB/s \n",
            "\u001b[?25hRequirement already satisfied: msgpack in /usr/local/lib/python3.7/dist-packages (from bravado->neptune-client) (1.0.3)\n",
            "Collecting bravado-core>=5.16.1\n",
            "  Downloading bravado_core-5.17.0-py2.py3-none-any.whl (67 kB)\n",
            "\u001b[K     |████████████████████████████████| 67 kB 6.0 MB/s \n",
            "\u001b[?25hCollecting monotonic\n",
            "  Downloading monotonic-1.6-py2.py3-none-any.whl (8.2 kB)\n",
            "Collecting jsonref\n",
            "  Downloading jsonref-0.2-py3-none-any.whl (9.3 kB)\n",
            "Requirement already satisfied: pytz in /usr/local/lib/python3.7/dist-packages (from bravado-core>=5.16.1->bravado->neptune-client) (2022.1)\n",
            "Requirement already satisfied: importlib-metadata in /usr/local/lib/python3.7/dist-packages (from jsonschema->swagger-spec-validator>=2.7.4->neptune-client) (4.11.4)\n",
            "Requirement already satisfied: pyrsistent!=0.17.0,!=0.17.1,!=0.17.2,>=0.14.0 in /usr/local/lib/python3.7/dist-packages (from jsonschema->swagger-spec-validator>=2.7.4->neptune-client) (0.18.1)\n",
            "Requirement already satisfied: importlib-resources>=1.4.0 in /usr/local/lib/python3.7/dist-packages (from jsonschema->swagger-spec-validator>=2.7.4->neptune-client) (5.7.1)\n",
            "Requirement already satisfied: attrs>=17.4.0 in /usr/local/lib/python3.7/dist-packages (from jsonschema->swagger-spec-validator>=2.7.4->neptune-client) (21.4.0)\n",
            "Collecting rfc3339-validator\n",
            "  Downloading rfc3339_validator-0.1.4-py2.py3-none-any.whl (3.5 kB)\n",
            "Collecting rfc3987\n",
            "  Downloading rfc3987-1.3.8-py2.py3-none-any.whl (13 kB)\n",
            "Collecting isoduration\n",
            "  Downloading isoduration-20.11.0-py3-none-any.whl (11 kB)\n",
            "Collecting jsonpointer>1.13\n",
            "  Downloading jsonpointer-2.3-py2.py3-none-any.whl (7.8 kB)\n",
            "Collecting fqdn\n",
            "  Downloading fqdn-1.5.1-py3-none-any.whl (9.1 kB)\n",
            "Collecting webcolors>=1.11\n",
            "  Downloading webcolors-1.12-py3-none-any.whl (9.9 kB)\n",
            "Collecting uri-template\n",
            "  Downloading uri_template-1.2.0-py3-none-any.whl (10 kB)\n",
            "Requirement already satisfied: zipp>=3.1.0 in /usr/local/lib/python3.7/dist-packages (from importlib-resources>=1.4.0->jsonschema->swagger-spec-validator>=2.7.4->neptune-client) (3.8.0)\n",
            "Requirement already satisfied: cached-property>=1.3.0 in /usr/local/lib/python3.7/dist-packages (from fqdn->jsonschema->swagger-spec-validator>=2.7.4->neptune-client) (1.5.2)\n",
            "Collecting arrow>=0.15.0\n",
            "  Downloading arrow-1.2.2-py3-none-any.whl (64 kB)\n",
            "\u001b[K     |████████████████████████████████| 64 kB 2.7 MB/s \n",
            "\u001b[?25hRequirement already satisfied: pyparsing!=3.0.5,>=2.0.2 in /usr/local/lib/python3.7/dist-packages (from packaging->neptune-client) (3.0.9)\n",
            "Requirement already satisfied: numpy>=1.17.3 in /usr/local/lib/python3.7/dist-packages (from pandas->neptune-client) (1.21.6)\n",
            "Building wheels for collected packages: neptune-client, future\n",
            "  Building wheel for neptune-client (setup.py) ... \u001b[?25l\u001b[?25hdone\n",
            "  Created wheel for neptune-client: filename=neptune_client-0.16.3-py2.py3-none-any.whl size=570148 sha256=27afead9ee138deae035ddade1e7cf984feddf14daee1c922c77c55c80fa1d96\n",
            "  Stored in directory: /root/.cache/pip/wheels/77/67/63/794a7079b23b633de6a77fb7e9427e368980a755c1bc52a814\n",
            "  Building wheel for future (setup.py) ... \u001b[?25l\u001b[?25hdone\n",
            "  Created wheel for future: filename=future-0.18.2-py3-none-any.whl size=491070 sha256=84969f7b1f2979c0dcd3e21b26882b70e2391ef2aedcb9f14e31d147cf8becda\n",
            "  Stored in directory: /root/.cache/pip/wheels/56/b0/fe/4410d17b32f1f0c3cf54cdfb2bc04d7b4b8f4ae377e2229ba0\n",
            "Successfully built neptune-client future\n",
            "Installing collected packages: arrow, webcolors, urllib3, uri-template, rfc3987, rfc3339-validator, jsonpointer, jmespath, isoduration, fqdn, swagger-spec-validator, smmap, simplejson, jsonref, botocore, s3transfer, monotonic, gitdb, bravado-core, websocket-client, PyJWT, GitPython, future, bravado, boto3, neptune-client\n",
            "  Attempting uninstall: urllib3\n",
            "    Found existing installation: urllib3 1.24.3\n",
            "    Uninstalling urllib3-1.24.3:\n",
            "      Successfully uninstalled urllib3-1.24.3\n",
            "  Attempting uninstall: future\n",
            "    Found existing installation: future 0.16.0\n",
            "    Uninstalling future-0.16.0:\n",
            "      Successfully uninstalled future-0.16.0\n",
            "\u001b[31mERROR: pip's dependency resolver does not currently take into account all the packages that are installed. This behaviour is the source of the following dependency conflicts.\n",
            "datascience 0.10.6 requires folium==0.2.1, but you have folium 0.8.3 which is incompatible.\u001b[0m\n",
            "Successfully installed GitPython-3.1.27 PyJWT-2.4.0 arrow-1.2.2 boto3-1.24.2 botocore-1.27.2 bravado-11.0.3 bravado-core-5.17.0 fqdn-1.5.1 future-0.18.2 gitdb-4.0.9 isoduration-20.11.0 jmespath-1.0.0 jsonpointer-2.3 jsonref-0.2 monotonic-1.6 neptune-client-0.16.3 rfc3339-validator-0.1.4 rfc3987-1.3.8 s3transfer-0.6.0 simplejson-3.17.6 smmap-5.0.0 swagger-spec-validator-2.7.4 uri-template-1.2.0 urllib3-1.25.11 webcolors-1.12 websocket-client-1.3.2\n"
          ]
        }
      ]
    },
    {
      "cell_type": "code",
      "source": [
        "run = neptune.init(name= params['aula'], tags=[params['aula'], 'Auto-atenção', 'Self-Attention', 'checkinpoint', 'CrossEntropy', 'Adam', 'perplexity', 'BrWaC'],\n",
        "    project=\"leolellisr/dl-ia025\",\n",
        "    api_token=\"eyJhcGlfYWRkcmVzcyI6Imh0dHBzOi8vYXBwLm5lcHR1bmUuYWkiLCJhcGlfdXJsIjoiaHR0cHM6Ly9hcHAubmVwdHVuZS5haSIsImFwaV9rZXkiOiI1NjY1YmJkZi1hYmM5LTQ3M2QtOGU1ZC1iZTFlNWY4NjE1NDQifQ==\",\n",
        ")"
      ],
      "metadata": {
        "id": "KNvj9TrsUOdI",
        "colab": {
          "base_uri": "https://localhost:8080/"
        },
        "outputId": "6a872265-099b-40d0-b6df-e9d7673ef108"
      },
      "execution_count": 8,
      "outputs": [
        {
          "output_type": "stream",
          "name": "stdout",
          "text": [
            "https://app.neptune.ai/leolellisr/dl-ia025/e/DLIA-124\n",
            "Remember to stop your run once you’ve finished logging your metadata (https://docs.neptune.ai/api-reference/run#.stop). It will be stopped automatically only when the notebook kernel/interactive console is terminated.\n"
          ]
        }
      ]
    },
    {
      "cell_type": "code",
      "source": [
        "run['parameters'] = params"
      ],
      "metadata": {
        "id": "2Ld1XqRPVh21"
      },
      "execution_count": 9,
      "outputs": []
    },
    {
      "cell_type": "code",
      "source": [
        "import time\n",
        "import itertools"
      ],
      "metadata": {
        "id": "K2517Ek9ZBv0"
      },
      "execution_count": 10,
      "outputs": []
    },
    {
      "cell_type": "markdown",
      "metadata": {
        "id": "9ZfxgV2DUk58"
      },
      "source": [
        "## Implementação do MyDataset"
      ]
    },
    {
      "cell_type": "code",
      "metadata": {
        "id": "n_xhKm1EZ3bQ"
      },
      "source": [
        "from typing import List\n",
        "\n",
        "\n",
        "def tokenize(text: str, tokenizer):\n",
        "    return tokenizer(text, return_tensors=None, add_special_tokens=False).input_ids\n",
        "\n",
        "\n",
        "class MyDataset():\n",
        "    def __init__(self, texts: List[str], tokenizer, max_seq_length: int):\n",
        "        self.max_seq_length = max_seq_length\n",
        "        self.X = []\n",
        "        for text in tqdm_notebook(texts):\n",
        "          token_ids = tokenize(f'[CLS] {text}', tokenizer) # + [tokenizer.vocab['[SEP]']]  \n",
        "          token_ids += [tokenizer.vocab['[PAD]']] * max(0, 1 + max_seq_length - len(token_ids))\n",
        "          for i in range(0, len(token_ids) - 1, max_seq_length):\n",
        "            if i + max_seq_length < len(token_ids):\n",
        "              self.X.append(token_ids[i: i + max_seq_length + 1])\n",
        "            else:\n",
        "              self.X.append(token_ids[-max_seq_length - 1:])\n",
        "        self.X = torch.LongTensor(self.X)\n",
        "\n",
        "    def __len__(self):\n",
        "        # Escreva seu código aqui\n",
        "        return len(self.X)\n",
        "\n",
        "    def __getitem__(self, idx):\n",
        "        # Escreva seu código aqui\n",
        "        x_y_idx = self.X[idx]\n",
        "        return x_y_idx[:-1], x_y_idx[1:]       "
      ],
      "execution_count": 11,
      "outputs": []
    },
    {
      "cell_type": "code",
      "source": [
        "from transformers import BertTokenizer\n",
        "\n",
        "tokenizer = BertTokenizer.from_pretrained(\"neuralmind/bert-base-portuguese-cased\")\n"
      ],
      "metadata": {
        "id": "NOwJMEllqm4a",
        "colab": {
          "base_uri": "https://localhost:8080/",
          "height": 177,
          "referenced_widgets": [
            "7bcb8020527c40eab103f51426001e0d",
            "6fda6c0a2acb4fa586bab1ab0d78f5d7",
            "28112c30f49a4f4b915c8f801e4feb88",
            "6b9f12e6a4b44b4f936a4f76da07986b",
            "1eff9ee16a5b46c2a952ceafbd2ee7a2",
            "d18dcb37d2bc4b1b9e3fe6e74c43b558",
            "3860624458474e0787fa2405aacbbde9",
            "e6d511cc15024c208b6c91b9ad0f3eb9",
            "49a57f031d3040f1bb1404c6f4051b21",
            "c4f04701dfab47d594687f54c2897cb3",
            "f03562acbefe40629464469435548b30",
            "db033ecbbef64fb0af8a05ade8dd018d",
            "cc4b3c87d04e41e4989ce5ee06558b22",
            "af15af463e4049dc8231f9a0763717c7",
            "a29ff1298b5948cd8c0f1f3e6814629a",
            "94dcb8368ef345cfb3ff9684dc3e179b",
            "828bf4176baa4053bd97afd4ebb0a135",
            "42fb4e85da3f4ac8a880e634d04dc3c6",
            "f5d2d404be66423aad09fc5ee5220b7f",
            "ffdda4e9d29444c48c38eee1e2bd0925",
            "be2f13741027461cae41a9c94ee9dd76",
            "3470d67fbe764cb3bee95425f3bba664",
            "e912d12716584642b60fb77f2f98c505",
            "d315347451ba4181a5a95817f1027187",
            "d3b34ad683ac498c864184a5ae302f06",
            "9af895fa80f24ae49707017f21ef5023",
            "4f98e1eacf2a4f8992ea08de10756bc2",
            "d8f8ae1ad76d43d28c45be1db2e24e8d",
            "9457ad710f39476db18719f689fdedeb",
            "f7dd570d379f449891d1ce3b2fe6a4a8",
            "289b24ac6c404d248ca4a5645d020eae",
            "e64e1d8b22294a7fa2f42293de92d787",
            "d5e3119832c24b0d8854d17037f0d509",
            "46217b9e4fcd47309f3c41d743697f29",
            "d0fe21549ec647c28ea9d8902d8b8057",
            "cc2f766ab6594e6caf3946950a739604",
            "f63aba1d8a4144c5818e95217678b090",
            "12c4e761c96f4018a1328527b6735dc8",
            "f67c4394e09641e3931267f0d11cae9b",
            "2ccf861d25144d56ae3542d67d5f4004",
            "36148e78048b4cebb4d6b3f7c02a0fcc",
            "0410df3aa63d4886af7d2a3c35a448b0",
            "9a76096eb57647179a03566df7bc53b9",
            "679e7dcca56c4355aded97b92d959954",
            "6f01dd48b70c499b91ea00cb7f33cc6b",
            "176098a10ad549cc82163429062443c0",
            "a669fada68aa403794d4e75a8352d1ea",
            "4a368155800749688c53e34cba2389cc",
            "ac0fbcda751b472ba1d94f0f1e0f9696",
            "065786fb4c104da5a0ff31aeffff7de5",
            "a1657c12a6ed4db0b43791fa595c0c9f",
            "8c10b57174ec421fa96c17c00e0b1072",
            "cf02f0a9fb584971bb0af95b3aedfc81",
            "32418c6738754052b4fee37d119e58ae",
            "0e81b995afa14d29aa13e3958290b520"
          ]
        },
        "outputId": "ee5481a2-b925-4452-b6af-3c1f7c5018a2"
      },
      "execution_count": 12,
      "outputs": [
        {
          "output_type": "display_data",
          "data": {
            "text/plain": [
              "Downloading:   0%|          | 0.00/205k [00:00<?, ?B/s]"
            ],
            "application/vnd.jupyter.widget-view+json": {
              "version_major": 2,
              "version_minor": 0,
              "model_id": "7bcb8020527c40eab103f51426001e0d"
            }
          },
          "metadata": {}
        },
        {
          "output_type": "display_data",
          "data": {
            "text/plain": [
              "Downloading:   0%|          | 0.00/2.00 [00:00<?, ?B/s]"
            ],
            "application/vnd.jupyter.widget-view+json": {
              "version_major": 2,
              "version_minor": 0,
              "model_id": "db033ecbbef64fb0af8a05ade8dd018d"
            }
          },
          "metadata": {}
        },
        {
          "output_type": "display_data",
          "data": {
            "text/plain": [
              "Downloading:   0%|          | 0.00/112 [00:00<?, ?B/s]"
            ],
            "application/vnd.jupyter.widget-view+json": {
              "version_major": 2,
              "version_minor": 0,
              "model_id": "e912d12716584642b60fb77f2f98c505"
            }
          },
          "metadata": {}
        },
        {
          "output_type": "display_data",
          "data": {
            "text/plain": [
              "Downloading:   0%|          | 0.00/43.0 [00:00<?, ?B/s]"
            ],
            "application/vnd.jupyter.widget-view+json": {
              "version_major": 2,
              "version_minor": 0,
              "model_id": "46217b9e4fcd47309f3c41d743697f29"
            }
          },
          "metadata": {}
        },
        {
          "output_type": "display_data",
          "data": {
            "text/plain": [
              "Downloading:   0%|          | 0.00/647 [00:00<?, ?B/s]"
            ],
            "application/vnd.jupyter.widget-view+json": {
              "version_major": 2,
              "version_minor": 0,
              "model_id": "6f01dd48b70c499b91ea00cb7f33cc6b"
            }
          },
          "metadata": {}
        }
      ]
    },
    {
      "cell_type": "markdown",
      "source": [
        "## Testando se a implementação do MyDataset está correta"
      ],
      "metadata": {
        "id": "wew-gFbWeBTq"
      }
    },
    {
      "cell_type": "code",
      "source": [
        "debug = False\n",
        "params['batch_size'] = 10\n",
        "batch_size = params['batch_size'] \n",
        "dummy_texts = ['Eu gosto de correr', 'Ela gosta muito de comer pizza']\n",
        "\n",
        "dummy_dataset = MyDataset(texts=dummy_texts, tokenizer=tokenizer, max_seq_length=9)\n",
        "dummy_loader = DataLoader(dummy_dataset, batch_size=6, shuffle=False)\n",
        "print(f'len(dummy_dataset): {len(dummy_dataset)}')\n",
        "assert len(dummy_dataset) == 2\n",
        "print('Passou no assert de tamanho do dataset.')\n",
        "\n",
        "first_batch_input, first_batch_target = next(iter(dummy_loader))\n",
        "\n",
        "correct_first_batch_input = torch.LongTensor(\n",
        "    [[  101,  3396, 10303,   125, 13239,     0,     0,     0,     0],\n",
        "     [  101,  1660,  5971,   785,   125,  1847, 13779, 15616,     0]])\n",
        "\n",
        "correct_first_batch_target = torch.LongTensor(\n",
        "    [[ 3396, 10303,   125, 13239,     0,     0,     0,     0,     0],\n",
        "     [ 1660,  5971,   785,   125,  1847, 13779, 15616,     0,     0]])\n",
        "\n",
        "\n",
        "if debug: print(first_batch_input)\n",
        "\n",
        "assert torch.equal(first_batch_input, correct_first_batch_input)\n",
        "\n",
        "if debug:  print(first_batch_target)\n",
        "assert torch.equal(first_batch_target, correct_first_batch_target)\n",
        "\n",
        "print('Passou no assert de dataset.')"
      ],
      "metadata": {
        "id": "8r7jBFFUeApe",
        "colab": {
          "base_uri": "https://localhost:8080/",
          "height": 160,
          "referenced_widgets": [
            "e100f7af214c4a5e9558801267527e82",
            "2baaf906ef284c2480b7cb1b17157e55",
            "f2d6ce64048549a9b74494ffcd80b1f6",
            "8d710fd233784736b3c304cadd570ea4",
            "e7a278ad87c147b891d78cc94abec82e",
            "e15205c2e25b430b96c9c558905db7fc",
            "cd4c405d052d4490b46b27d9c8e08612",
            "28016e2752354f20b69ef51ff6cbe0f4",
            "643e09947e42482e8027f67d78363d5a",
            "d1e909628863411e8fd4d438a5e101db",
            "774e938b6c9d4f84ad27e2941b9776cc"
          ]
        },
        "outputId": "9b6094df-1b8d-48dc-f1c5-5e3fe4e48e25"
      },
      "execution_count": 13,
      "outputs": [
        {
          "output_type": "stream",
          "name": "stderr",
          "text": [
            "/usr/local/lib/python3.7/dist-packages/ipykernel_launcher.py:12: TqdmDeprecationWarning: This function will be removed in tqdm==5.0.0\n",
            "Please use `tqdm.notebook.tqdm` instead of `tqdm.tqdm_notebook`\n",
            "  if sys.path[0] == '':\n"
          ]
        },
        {
          "output_type": "display_data",
          "data": {
            "text/plain": [
              "  0%|          | 0/2 [00:00<?, ?it/s]"
            ],
            "application/vnd.jupyter.widget-view+json": {
              "version_major": 2,
              "version_minor": 0,
              "model_id": "e100f7af214c4a5e9558801267527e82"
            }
          },
          "metadata": {}
        },
        {
          "output_type": "stream",
          "name": "stdout",
          "text": [
            "len(dummy_dataset): 2\n",
            "Passou no assert de tamanho do dataset.\n",
            "Passou no assert de dataset.\n"
          ]
        }
      ]
    },
    {
      "cell_type": "code",
      "source": [
        "from google.colab import drive\n",
        "\n",
        "if save_in_drive: drive.mount('/content/gdrive')"
      ],
      "metadata": {
        "colab": {
          "base_uri": "https://localhost:8080/"
        },
        "id": "YIwYycaugsxY",
        "outputId": "42d589ec-c39b-4aa6-a192-36d83a3de547"
      },
      "execution_count": 14,
      "outputs": [
        {
          "output_type": "stream",
          "name": "stdout",
          "text": [
            "Mounted at /content/gdrive\n"
          ]
        }
      ]
    },
    {
      "cell_type": "markdown",
      "metadata": {
        "id": "4LfrHHouleJ0"
      },
      "source": [
        "# Carregamento do dataset "
      ]
    },
    {
      "cell_type": "markdown",
      "metadata": {
        "id": "V2vFWjsSkmop"
      },
      "source": [
        "Iremos usar uma pequena amostra do dataset [BrWaC](https://www.inf.ufrgs.br/pln/wiki/index.php?title=BrWaC) para treinar e avaliar nosso modelo de linguagem."
      ]
    },
    {
      "cell_type": "code",
      "source": [
        "!wget -nc https://storage.googleapis.com/unicamp-dl/ia025a_2022s1/aula9/sample-1gb.txt"
      ],
      "metadata": {
        "colab": {
          "base_uri": "https://localhost:8080/"
        },
        "id": "vGlN1WqrXPA6",
        "outputId": "ebb01bc7-a3d6-485c-ebce-06c7e2e962e1"
      },
      "execution_count": 15,
      "outputs": [
        {
          "output_type": "stream",
          "name": "stdout",
          "text": [
            "--2022-06-04 20:17:06--  https://storage.googleapis.com/unicamp-dl/ia025a_2022s1/aula9/sample-1gb.txt\n",
            "Resolving storage.googleapis.com (storage.googleapis.com)... 142.251.12.128, 142.250.4.128, 74.125.200.128, ...\n",
            "Connecting to storage.googleapis.com (storage.googleapis.com)|142.251.12.128|:443... connected.\n",
            "HTTP request sent, awaiting response... 200 OK\n",
            "Length: 1230909256 (1.1G) [text/plain]\n",
            "Saving to: ‘sample-1gb.txt’\n",
            "\n",
            "sample-1gb.txt      100%[===================>]   1.15G  66.4MB/s    in 18s     \n",
            "\n",
            "2022-06-04 20:17:25 (64.9 MB/s) - ‘sample-1gb.txt’ saved [1230909256/1230909256]\n",
            "\n"
          ]
        }
      ]
    },
    {
      "cell_type": "code",
      "source": [
        "# Load datasets\n",
        "max_seq_length = params['max_seq_length']\n",
        "\n",
        "train_examples = params['train_examples']\n",
        "valid_examples = params['valid_examples']\n",
        "test_examples = params['test_examples']\n",
        "\n",
        " "
      ],
      "metadata": {
        "id": "gxa_4gmiA-wE"
      },
      "execution_count": 16,
      "outputs": []
    },
    {
      "cell_type": "code",
      "source": [
        ""
      ],
      "metadata": {
        "id": "NGpsakPdG4Nw"
      },
      "execution_count": 16,
      "outputs": []
    },
    {
      "cell_type": "code",
      "source": [
        "max_lines = train_examples + valid_examples + test_examples\n",
        "print(f'Truncating to {max_lines} lines.')\n",
        "\n",
        "if params['download_ds']:\n",
        "  texts = open('sample-1gb.txt').readlines()\n",
        "  print(f'Read {len(texts)} lines.')\n",
        "  \n",
        "  #smart batching\n",
        "  texts = sorted(texts, key=lambda x: len(x[0]))\n",
        "\n",
        "  texts = texts[:max_lines]  \n",
        "  \n",
        "  training_texts = texts[:-(valid_examples + test_examples)]\n",
        "  valid_texts = texts[-(valid_examples + test_examples):-test_examples]\n",
        "  test_texts = texts[-test_examples:]\n",
        "\n",
        "  training_dataset = MyDataset(texts=training_texts, tokenizer=tokenizer, max_seq_length=max_seq_length)\n",
        "  valid_dataset = MyDataset(texts=valid_texts, tokenizer=tokenizer, max_seq_length=max_seq_length)\n",
        "  test_dataset = MyDataset(texts=test_texts, tokenizer=tokenizer, max_seq_length=max_seq_length)\n",
        "else:\n",
        "  path = params['path_saved_datasets']+'train.pt'\n",
        "  training_dataset = torch.load(path)\n",
        "  path = params['path_saved_datasets']+'val.pt'\n",
        "  valid_dataset = torch.load(path)\n",
        "  path = params['path_saved_datasets']+'test.pt'\n",
        "  test_dataset = torch.load(path)\n",
        "params['batch_size'] = 64\n",
        "batch_size = params['batch_size'] \n"
      ],
      "metadata": {
        "colab": {
          "base_uri": "https://localhost:8080/"
        },
        "id": "TDari2UL78_5",
        "outputId": "7cb236a3-05ef-4a2d-9bf8-1d08ec76b7b6"
      },
      "execution_count": 17,
      "outputs": [
        {
          "output_type": "stream",
          "name": "stdout",
          "text": [
            "Truncating to 155000 lines.\n"
          ]
        }
      ]
    },
    {
      "cell_type": "code",
      "source": [
        "print(f'training examples: {len(training_dataset)}')\n",
        "print(f'valid examples: {len(valid_dataset)}')\n",
        "print(f'test examples: {len(test_dataset)}')"
      ],
      "metadata": {
        "id": "KCSGJ5m7py4c",
        "colab": {
          "base_uri": "https://localhost:8080/"
        },
        "outputId": "c9338b68-2e38-46ea-b089-947f3dd84f1b"
      },
      "execution_count": 18,
      "outputs": [
        {
          "output_type": "stream",
          "name": "stdout",
          "text": [
            "training examples: 11198040\n",
            "valid examples: 5011771\n",
            "test examples: 3041508\n"
          ]
        }
      ]
    },
    {
      "cell_type": "code",
      "source": [
        "\n",
        "if save_in_drive and params['download_ds']:\n",
        "  torch.save(training_dataset, params['path_saved_datasets']+\"train.pt\")\n",
        "  torch.save(valid_dataset, params['path_saved_datasets']+\"val.pt\")\n",
        "  torch.save(test_dataset, params['path_saved_datasets']+\"test.pt\")"
      ],
      "metadata": {
        "id": "VeNzN6ZjWP09"
      },
      "execution_count": 19,
      "outputs": []
    },
    {
      "cell_type": "code",
      "source": [
        "import torch\n",
        "import torch.nn.functional as F"
      ],
      "metadata": {
        "id": "CmjYdmqANlRn"
      },
      "execution_count": 20,
      "outputs": []
    },
    {
      "cell_type": "code",
      "source": [
        "# É recomendado reiniciar as seeds antes de inicializar o modelo, pois assim\n",
        "# garantimos que os pesos vao ser sempre os mesmos.\n",
        "set_seeds()\n",
        "\n",
        "class SelfAttentionLayer(torch.nn.Module):\n",
        "\n",
        "    def __init__(self, padding_idx, n_heads, dim, max_length):\n",
        "        super().__init__()\n",
        "        # n_heads: H\n",
        "        # dim: D\n",
        "        # max_lenght: L\n",
        "        # vocab_lenght: V\n",
        "        self.H = n_heads\n",
        "        self.D = dim\n",
        "        self.L = max_length\n",
        "        self.D_H = self.D // self.H # D / H\n",
        "        self.pad = padding_idx\n",
        "\n",
        "        self.W_q = torch.nn.Linear(self.D, self.D, bias=False) # (D, D)\n",
        "        self.W_k = torch.nn.Linear(self.D, self.D, bias=False)\n",
        "        self.W_v = torch.nn.Linear(self.D, self.D, bias=False)\n",
        "        self.W_o = torch.nn.Linear(self.D, self.D, bias=False)\n",
        "\n",
        "        self.layer_norm1  = torch.nn.LayerNorm(self.D, eps=1e-6)\n",
        "\n",
        "        self.feed_forward = torch.nn.Sequential(\n",
        "            torch.nn.Linear(self.D, self.D*10),  \n",
        "            torch.nn.ReLU(),\n",
        "            torch.nn.Linear(self.D*10, self.D)\n",
        "        )\n",
        "        self.layer_norm2  = torch.nn.LayerNorm(self.D, eps=1e-6)\n",
        "\n",
        "\n",
        "    def forward(self, x, att_mask):\n",
        "        # multi-head self-attention\n",
        "        \n",
        "        fQ = self.W_q(x).reshape(len(x), self.L, self.H, self.D_H) # (B, L, H, D/H)\n",
        "        fK = self.W_k(x).reshape(len(x), self.L, self.H, self.D_H)\n",
        "        fV = self.W_v(x).reshape(len(x), self.L, self.H, self.D_H)\n",
        "\n",
        "        # (B, L, H, D/H) -> (B, H, L, D/H)\n",
        "        fQ_transposed = fQ.transpose(1, 2)                    # (B, H, L, D/H)\n",
        "        fK_transposed = fK.transpose(1, 2)\n",
        "        fV_transposed = fV.transpose(1, 2)\n",
        "\n",
        "        scores = torch.matmul(fQ_transposed, fK_transposed.transpose(-2, -1)) / math.sqrt(self.D_H) # (B, H, L, L)\n",
        "\n",
        "        scores = scores.masked_fill(att_mask.unsqueeze(1) == self.pad, -float(\"inf\"))\n",
        "\n",
        "        if debug: print(f\"scores (B, H, L, L): {scores.shape}\")  \n",
        "\n",
        "        probs = F.softmax(scores, dim=-1) # shape = B, L, L\n",
        "        if debug: print(f\"probs (B, H, L, L): {probs.shape}\")  \n",
        "\n",
        "        E = torch.matmul(probs, fV_transposed)\n",
        "        if debug: print(f\"E (B, H, L, D/H): {E.shape}\")  \n",
        "\n",
        "        out = E.transpose(1, 2).contiguous()                   # (B, L, H, D/H)\n",
        "        out = out.reshape(len(x), self.L, self.D) # (B, L, D) \n",
        "        out = self.W_o(out)\n",
        "        if debug: print(f\"out (B, L, D): {out.shape}\")  # (B, L, D)    \n",
        "\n",
        "        out = self.layer_norm1(x+out)               # (B, L, D) \n",
        "        out = self.feed_forward(out)\n",
        "        out = self.layer_norm2(x+out)           # (B, L, D) \n",
        "        #att_mean = att_norm2 * padMask.unsqueeze(-1)      \n",
        "        #mean_embeddings = att_mean.sum(dim=1) / padMask.count_nonzero(-1).unsqueeze(1)  \n",
        "        return out"
      ],
      "metadata": {
        "id": "GgdE_7xnMp7Y"
      },
      "execution_count": 21,
      "outputs": []
    },
    {
      "cell_type": "code",
      "source": [
        ""
      ],
      "metadata": {
        "id": "MsAs84KmQVXc"
      },
      "execution_count": 21,
      "outputs": []
    },
    {
      "cell_type": "code",
      "metadata": {
        "id": "hGaAjYDfWdd1"
      },
      "source": [
        "set_seeds()\n",
        "class LanguageModel(torch.nn.Module):\n",
        "\n",
        "    def __init__(self, vocab_size: int, max_seq_length: int, dim: int, n_layers: int, pad_token_id: int, hidden: int, n_heads):\n",
        "        \"\"\"\n",
        "        Implements the Self-attention, decoder-only.\"\n",
        "\n",
        "        Args:\n",
        "            vocab_size (int): Size of the input vocabulary.\n",
        "            max_seq_length (int): Size of the sequence to consider as context for prediction.\n",
        "            dim (int): Dimension of the embedding layer for each word in the context.\n",
        "            n_layers (int): number of self-attention layers.\n",
        "            pad_token_id (int): id of the pad token that will be ignored in the attention.\n",
        "          \n",
        "        \"\"\"\n",
        "        # Escreva seu código aqui.\n",
        "        super().__init__()\n",
        "        self.H = n_heads \n",
        "        self.D = dim\n",
        "        self.L = max_seq_length\n",
        "        self.D_H = self.D // self.H # D / H\n",
        "        self.pad_token_id = pad_token_id\n",
        "        self.V = vocab_size\n",
        "        self.hidden_size = hidden\n",
        "        # word embedding \n",
        "        self.embeddings_c = nn.Embedding(self.V, self.D,padding_idx=pad_token_id)\n",
        "        self.embeddings_p = torch.nn.Linear(self.D, self.L, bias=False)\n",
        "\n",
        "#        self.att_layer = \n",
        "        self.att_layer1 = SelfAttentionLayer(padding_idx=pad_token_id, n_heads=self.H, dim=self.D, max_length=self.L)\n",
        "        self.att_layer2 = SelfAttentionLayer(padding_idx=pad_token_id, n_heads=self.H, dim=self.D, max_length=self.L)\n",
        "\n",
        "        self.feed_forward = torch.nn.Sequential(\n",
        "            torch.nn.Linear(self.D, self.hidden_size),    # (D, hidden_size)\n",
        "            torch.nn.ReLU(),\n",
        "            torch.nn.Dropout(p=0.2),\n",
        "            torch.nn.Linear(self.hidden_size, self.V)     # (hidden_size, V)\n",
        "        )\n",
        "        \n",
        "\n",
        "        \n",
        "    def forward(self, inputs):\n",
        "        \"\"\"\n",
        "        Args:\n",
        "            inputs is a LongTensor of shape (batch_size, max_seq_length)\n",
        "            B: batch_size\n",
        "            L: max_seq_length\n",
        "            D: embedding_dim\n",
        "            V: vocab_size\n",
        "            input shape: (B, L)\n",
        "            pos shape: (B, L)\n",
        "        Returns:\n",
        "            logits of shape (batch_size, max_seq_length, vocab_size)\n",
        "        \"\"\"\n",
        "        B = inputs.shape[0]\n",
        "\n",
        "        att_mask = torch.tril(torch.ones(B, self.L, self.L)).to(device)\n",
        "        att_mask = att_mask.masked_fill(inputs.unsqueeze(1) == self.pad_token_id, 0)\n",
        "        att_mask = att_mask.masked_fill(inputs.unsqueeze(2) == self.pad_token_id, 0)\n",
        "        # input shape: (B, L)\n",
        "        x_emb = self.embeddings_c(inputs) + self.embeddings_p.weight # (B, L, D)\n",
        "        \n",
        "        if debug: print(f'shape x_emb: {x_emb.shape}')                # (B, L, D)\n",
        "\n",
        "        x_emb = self.att_layer1(x_emb, att_mask)     \n",
        "        x_emb = self.att_layer2(x_emb, att_mask)\n",
        "        #logits =  self.att_layer(x_emb, att_mask)                     # (B, L, D)\n",
        "        if debug: print(f'shape x_emb: {x_emb.shape}')              # (B, L, D)\n",
        "        logits = self.feed_forward(x_emb)                            # (B, L, V)\n",
        "        if debug: print(f'shape logits (B, L, V): {logits.shape}')    # (B, L, V)\n",
        "        \n",
        "\n",
        "        return logits"
      ],
      "execution_count": 22,
      "outputs": []
    },
    {
      "cell_type": "code",
      "source": [
        "if torch.cuda.is_available(): \n",
        "   dev = \"cuda:0\"\n",
        "else: \n",
        "   dev = \"cpu\"\n",
        "device = torch.device(dev)\n",
        "print('Using {}'.format(device))"
      ],
      "metadata": {
        "colab": {
          "base_uri": "https://localhost:8080/"
        },
        "id": "zvVgqCENvNfT",
        "outputId": "3eebaca0-d353-4eba-e197-80b45cff2584"
      },
      "execution_count": 23,
      "outputs": [
        {
          "output_type": "stream",
          "name": "stdout",
          "text": [
            "Using cuda:0\n"
          ]
        }
      ]
    },
    {
      "cell_type": "markdown",
      "source": [
        "## Teste o modelo com um exemplo"
      ],
      "metadata": {
        "id": "Rm6_PTH2i98e"
      }
    },
    {
      "cell_type": "code",
      "metadata": {
        "id": "RwnxfZlrZoT_",
        "colab": {
          "base_uri": "https://localhost:8080/"
        },
        "outputId": "7bb79f39-c5f5-4f4c-cf51-2105e16e2960"
      },
      "source": [
        "debug = True\n",
        "model = LanguageModel(\n",
        "    vocab_size=tokenizer.vocab_size,\n",
        "    max_seq_length=max_seq_length,\n",
        "    dim=64,\n",
        "    n_layers=2,\n",
        "    hidden = 128,\n",
        "    n_heads = 4,\n",
        "    pad_token_id=tokenizer.pad_token_id\n",
        ").to(device)\n",
        "\n",
        "\n",
        "sample_input, _ = next(iter(DataLoader(training_dataset)))\n",
        "sample_input = sample_input.to(device)\n",
        "sample_output = model(sample_input)\n",
        "print(f'sample_input.shape: {sample_input.shape}')\n",
        "print(f'sample_output.shape: {sample_output.shape}')"
      ],
      "execution_count": 24,
      "outputs": [
        {
          "output_type": "stream",
          "name": "stdout",
          "text": [
            "shape x_emb: torch.Size([1, 9, 64])\n",
            "scores (B, H, L, L): torch.Size([1, 4, 9, 9])\n",
            "probs (B, H, L, L): torch.Size([1, 4, 9, 9])\n",
            "E (B, H, L, D/H): torch.Size([1, 4, 9, 16])\n",
            "out (B, L, D): torch.Size([1, 9, 64])\n",
            "scores (B, H, L, L): torch.Size([1, 4, 9, 9])\n",
            "probs (B, H, L, L): torch.Size([1, 4, 9, 9])\n",
            "E (B, H, L, D/H): torch.Size([1, 4, 9, 16])\n",
            "out (B, L, D): torch.Size([1, 9, 64])\n",
            "shape x_emb: torch.Size([1, 9, 64])\n",
            "shape logits (B, L, V): torch.Size([1, 9, 29794])\n",
            "sample_input.shape: torch.Size([1, 9])\n",
            "sample_output.shape: torch.Size([1, 9, 29794])\n"
          ]
        }
      ]
    },
    {
      "cell_type": "code",
      "source": [
        "sample_input"
      ],
      "metadata": {
        "colab": {
          "base_uri": "https://localhost:8080/"
        },
        "id": "J0u4m2eFaeo5",
        "outputId": "18254785-5304-4214-b1b5-178f00bc44fe"
      },
      "execution_count": 25,
      "outputs": [
        {
          "output_type": "execute_result",
          "data": {
            "text/plain": [
              "tensor([[  101, 20100,  2308,  3074,  1089,   481,   117,   146,  1189]],\n",
              "       device='cuda:0')"
            ]
          },
          "metadata": {},
          "execution_count": 25
        }
      ]
    },
    {
      "cell_type": "code",
      "metadata": {
        "id": "I3Vh6B-VkA01",
        "colab": {
          "base_uri": "https://localhost:8080/"
        },
        "outputId": "69c465b7-2189-47db-8078-4cef5eb7a3c0"
      },
      "source": [
        "num_params = sum(p.numel() for p in model.parameters() if p.requires_grad)\n",
        "print(f'Number of model parameters: {num_params}')"
      ],
      "execution_count": 26,
      "outputs": [
        {
          "output_type": "stream",
          "name": "stdout",
          "text": [
            "Number of model parameters: 5957666\n"
          ]
        }
      ]
    },
    {
      "cell_type": "markdown",
      "source": [
        "## Assert da Perplexidade\n"
      ],
      "metadata": {
        "id": "8nhbUVsYnVAp"
      }
    },
    {
      "cell_type": "code",
      "source": [
        "random.seed(123)\n",
        "np.random.seed(123)\n",
        "torch.manual_seed(123)\n",
        "\n",
        "\n",
        "def perplexity(logits, target, ignore_token_id: int):\n",
        "    \"\"\"\n",
        "    Computes the perplexity.\n",
        "\n",
        "    Args:\n",
        "        logits: a FloatTensor of shape (batch_size, seq_length, vocab_size)\n",
        "        target: a LongTensor of shape (batch_size, seq_length)\n",
        "\n",
        "    Returns:\n",
        "        A float corresponding to the perplexity\n",
        "    \"\"\"\n",
        "    logits = logits.reshape(-1, logits.shape[-1])\n",
        "    target = target.reshape(-1)\n",
        "    if debug: \n",
        "      print(f'logits: {logits.shape}')\n",
        "      print(f'train_target_ids: {target.shape}')\n",
        "    loss = nn.functional.cross_entropy(logits, target, reduction='mean', ignore_index=ignore_token_id)\n",
        "    return torch.exp(loss)\n",
        "\n",
        "\n",
        "n_examples = 1000\n",
        "\n",
        "train_input_ids, train_target_ids = next(iter(DataLoader(training_dataset, batch_size=n_examples)))\n",
        "train_input_ids = train_input_ids.to(device)\n",
        "train_target_ids = train_target_ids.to(device)\n",
        "\n",
        "logits = model.forward(train_input_ids)\n",
        "if debug:\n",
        "  print(f'logits: {logits.shape}')\n",
        "  print(f'train_target_ids: {train_target_ids.shape}')\n",
        "\n",
        "my_perplexity = perplexity(logits=logits, target=train_target_ids, ignore_token_id=tokenizer.pad_token_id)\n",
        "if debug:\n",
        "  print(f'correct initial perplexity: {tokenizer.vocab_size}')\n",
        "  print(f'my perplexity:              {int(my_perplexity)}')\n",
        "\n",
        "\n",
        "assert math.isclose(my_perplexity, tokenizer.vocab_size, abs_tol=7000)\n",
        "print('Passou o no assert da perplexidade')\n",
        "run['perplexity'].log(my_perplexity) # Envia perplexity para o Neptune.\n"
      ],
      "metadata": {
        "id": "gbMP8VAUncfX",
        "colab": {
          "base_uri": "https://localhost:8080/"
        },
        "outputId": "b99a416c-5595-4043-a7d4-dc1fe444ec20"
      },
      "execution_count": 27,
      "outputs": [
        {
          "output_type": "stream",
          "name": "stdout",
          "text": [
            "shape x_emb: torch.Size([1000, 9, 64])\n",
            "scores (B, H, L, L): torch.Size([1000, 4, 9, 9])\n",
            "probs (B, H, L, L): torch.Size([1000, 4, 9, 9])\n",
            "E (B, H, L, D/H): torch.Size([1000, 4, 9, 16])\n",
            "out (B, L, D): torch.Size([1000, 9, 64])\n",
            "scores (B, H, L, L): torch.Size([1000, 4, 9, 9])\n",
            "probs (B, H, L, L): torch.Size([1000, 4, 9, 9])\n",
            "E (B, H, L, D/H): torch.Size([1000, 4, 9, 16])\n",
            "out (B, L, D): torch.Size([1000, 9, 64])\n",
            "shape x_emb: torch.Size([1000, 9, 64])\n",
            "shape logits (B, L, V): torch.Size([1000, 9, 29794])\n",
            "logits: torch.Size([1000, 9, 29794])\n",
            "train_target_ids: torch.Size([1000, 9])\n",
            "logits: torch.Size([9000, 29794])\n",
            "train_target_ids: torch.Size([9000])\n",
            "correct initial perplexity: 29794\n",
            "my perplexity:              30478\n",
            "Passou o no assert da perplexidade\n"
          ]
        }
      ]
    },
    {
      "cell_type": "code",
      "source": [
        ""
      ],
      "metadata": {
        "id": "YyE_DJkfJ8sS"
      },
      "execution_count": 27,
      "outputs": []
    },
    {
      "cell_type": "markdown",
      "source": [
        "## Laço de Treinamento e Validação"
      ],
      "metadata": {
        "id": "KiJtrsqPnE_l"
      }
    },
    {
      "cell_type": "code",
      "source": [
        "batch_size = params['batch_size']\n",
        "\n",
        "debug = False\n",
        "model = LanguageModel(\n",
        "    vocab_size=tokenizer.vocab_size,\n",
        "    max_seq_length=params['max_seq_length'],\n",
        "    dim=params['embedding_dim'],\n",
        "    n_layers=2,\n",
        "    hidden = params['hidden_size'],\n",
        "    n_heads = params['n_heads'],\n",
        "    pad_token_id=tokenizer.pad_token_id\n",
        ").to(device)\n",
        "\n",
        "train_loader = DataLoader(training_dataset, batch_size=params['batch_size'], shuffle=True, drop_last=True)\n",
        "validation_loader = DataLoader(valid_dataset, batch_size=params['batch_size'])\n",
        "\n",
        "optimizer = torch.optim.Adam(model.parameters(), lr=params['lr'])\n",
        "\n",
        "best_valid_ppl = 10e9\n",
        "\n",
        "if params['retrain']:\n",
        "  best_model = params['path_saved_model']\n",
        "  model = torch.load(best_model)\n",
        "\n",
        "def train_step(input_ids, target_ids):\n",
        "    model.train()\n",
        "    model.zero_grad()\n",
        "    logits = model(input_ids)\n",
        "    logits = logits.reshape(-1, logits.shape[-1])\n",
        "    target_ids = target_ids.reshape(-1)\n",
        "    loss = nn.functional.cross_entropy(logits, target_ids, ignore_index=model.pad_token_id)\n",
        "    loss.backward()\n",
        "    optimizer.step()\n",
        "\n",
        "    return loss.item()\n",
        "\n",
        "\n",
        "def validation_step(input_ids, target_ids):\n",
        "    model.eval()\n",
        "    logits = model(input_ids)\n",
        "    logits = logits.reshape(-1, logits.shape[-1])\n",
        "    target_ids = target_ids.reshape(-1)\n",
        "    loss = nn.functional.cross_entropy(logits, target_ids, ignore_index=model.pad_token_id)\n",
        "    return loss.item()"
      ],
      "metadata": {
        "id": "MI7smWjSLY93"
      },
      "execution_count": 28,
      "outputs": []
    },
    {
      "cell_type": "code",
      "metadata": {
        "id": "zIMSaY-UUGUE",
        "colab": {
          "base_uri": "https://localhost:8080/",
          "height": 565
        },
        "outputId": "e7c2ffd7-f5f8-47f0-b9a1-4daefbf389fa"
      },
      "source": [
        "\n",
        "\n",
        "\n",
        "train_losses = []\n",
        "n_examples = 0\n",
        "step = 0\n",
        "while n_examples < params['max_examples']:\n",
        "    for train_input_ids, train_target_ids in train_loader:\n",
        "      if step < params['last_step']:\n",
        "        step += 1\n",
        "        n_examples += len(train_input_ids)  # Increment of batch size\n",
        "      else:\n",
        "        loss = train_step(train_input_ids.to(device), train_target_ids.to(device)) \n",
        "        train_losses.append(loss)\n",
        "        \n",
        "        if step %  params['eval_every_steps'] == 0:\n",
        "            train_ppl = np.exp(np.average(train_losses))\n",
        "            run['train/ppl'].log(train_ppl) # Envia train ppl para o Neptune.\n",
        "\n",
        "            with torch.no_grad():\n",
        "                valid_ppl = np.exp(np.average([\n",
        "                    validation_step(val_input_ids.to(device), val_target_ids.to(device))\n",
        "                    for val_input_ids, val_target_ids in validation_loader]))\n",
        "            run['valid/ppl'].log(valid_ppl) # Envia valid ppl para o Neptune.\n",
        "            if checkinpoint and valid_ppl < best_valid_ppl:\n",
        "              torch.save(model.state_dict(), 'best_model.pt')\n",
        "              if save_in_drive: torch.save(model, params['path_saved_model'])\n",
        "              print(f\"Best model found in step {step}. valid ppl: {valid_ppl:.2f}, best_valid_ppl: {best_valid_ppl:.2f} \")\n",
        "              best_valid_ppl = valid_ppl\n",
        "            ex_least = n_examples/params['max_examples']*100\n",
        "            print(f'{step} steps; {n_examples} examples so far; {ex_least:.2f} % ; train ppl: {train_ppl:.2f}, valid ppl: {valid_ppl:.2f}, best_valid_ppl: {best_valid_ppl:.2f}')\n",
        "            train_losses = []\n",
        "\n",
        "        n_examples += len(train_input_ids)  # Increment of batch size\n",
        "        step += 1\n",
        "        if n_examples >= params['max_examples']:\n",
        "            break"
      ],
      "execution_count": 29,
      "outputs": [
        {
          "output_type": "stream",
          "name": "stdout",
          "text": [
            "Best model found in step 280000. valid ppl: 166.32, best_valid_ppl: 10000000000.00 \n",
            "280000 steps; 17920000 examples so far; 11.95 % ; train ppl: 124.29, valid ppl: 166.32, best_valid_ppl: 166.32\n",
            "290000 steps; 18560000 examples so far; 12.37 % ; train ppl: 172.94, valid ppl: 166.32, best_valid_ppl: 166.32\n",
            "300000 steps; 19200000 examples so far; 12.80 % ; train ppl: 172.88, valid ppl: 166.32, best_valid_ppl: 166.32\n",
            "310000 steps; 19840000 examples so far; 13.23 % ; train ppl: 173.40, valid ppl: 166.32, best_valid_ppl: 166.32\n",
            "320000 steps; 20480000 examples so far; 13.65 % ; train ppl: 173.09, valid ppl: 166.32, best_valid_ppl: 166.32\n",
            "330000 steps; 21120000 examples so far; 14.08 % ; train ppl: 173.06, valid ppl: 166.32, best_valid_ppl: 166.32\n",
            "340000 steps; 21760000 examples so far; 14.51 % ; train ppl: 172.83, valid ppl: 166.32, best_valid_ppl: 166.32\n",
            "350000 steps; 22400000 examples so far; 14.93 % ; train ppl: 172.84, valid ppl: 166.32, best_valid_ppl: 166.32\n",
            "360000 steps; 23040000 examples so far; 15.36 % ; train ppl: 173.09, valid ppl: 166.32, best_valid_ppl: 166.32\n",
            "370000 steps; 23680000 examples so far; 15.79 % ; train ppl: 172.94, valid ppl: 166.32, best_valid_ppl: 166.32\n"
          ]
        },
        {
          "output_type": "error",
          "ename": "KeyboardInterrupt",
          "evalue": "ignored",
          "traceback": [
            "\u001b[0;31m---------------------------------------------------------------------------\u001b[0m",
            "\u001b[0;31mKeyboardInterrupt\u001b[0m                         Traceback (most recent call last)",
            "\u001b[0;32m<ipython-input-29-e1a55936eb0e>\u001b[0m in \u001b[0;36m<module>\u001b[0;34m()\u001b[0m\n\u001b[1;32m     21\u001b[0m                 valid_ppl = np.exp(np.average([\n\u001b[1;32m     22\u001b[0m                     \u001b[0mvalidation_step\u001b[0m\u001b[0;34m(\u001b[0m\u001b[0mval_input_ids\u001b[0m\u001b[0;34m.\u001b[0m\u001b[0mto\u001b[0m\u001b[0;34m(\u001b[0m\u001b[0mdevice\u001b[0m\u001b[0;34m)\u001b[0m\u001b[0;34m,\u001b[0m \u001b[0mval_target_ids\u001b[0m\u001b[0;34m.\u001b[0m\u001b[0mto\u001b[0m\u001b[0;34m(\u001b[0m\u001b[0mdevice\u001b[0m\u001b[0;34m)\u001b[0m\u001b[0;34m)\u001b[0m\u001b[0;34m\u001b[0m\u001b[0;34m\u001b[0m\u001b[0m\n\u001b[0;32m---> 23\u001b[0;31m                     for val_input_ids, val_target_ids in validation_loader]))\n\u001b[0m\u001b[1;32m     24\u001b[0m             \u001b[0mrun\u001b[0m\u001b[0;34m[\u001b[0m\u001b[0;34m'valid/ppl'\u001b[0m\u001b[0;34m]\u001b[0m\u001b[0;34m.\u001b[0m\u001b[0mlog\u001b[0m\u001b[0;34m(\u001b[0m\u001b[0mvalid_ppl\u001b[0m\u001b[0;34m)\u001b[0m \u001b[0;31m# Envia valid ppl para o Neptune.\u001b[0m\u001b[0;34m\u001b[0m\u001b[0;34m\u001b[0m\u001b[0m\n\u001b[1;32m     25\u001b[0m             \u001b[0;32mif\u001b[0m \u001b[0mcheckinpoint\u001b[0m \u001b[0;32mand\u001b[0m \u001b[0mvalid_ppl\u001b[0m \u001b[0;34m<\u001b[0m \u001b[0mbest_valid_ppl\u001b[0m\u001b[0;34m:\u001b[0m\u001b[0;34m\u001b[0m\u001b[0;34m\u001b[0m\u001b[0m\n",
            "\u001b[0;32m<ipython-input-29-e1a55936eb0e>\u001b[0m in \u001b[0;36m<listcomp>\u001b[0;34m(.0)\u001b[0m\n\u001b[1;32m     21\u001b[0m                 valid_ppl = np.exp(np.average([\n\u001b[1;32m     22\u001b[0m                     \u001b[0mvalidation_step\u001b[0m\u001b[0;34m(\u001b[0m\u001b[0mval_input_ids\u001b[0m\u001b[0;34m.\u001b[0m\u001b[0mto\u001b[0m\u001b[0;34m(\u001b[0m\u001b[0mdevice\u001b[0m\u001b[0;34m)\u001b[0m\u001b[0;34m,\u001b[0m \u001b[0mval_target_ids\u001b[0m\u001b[0;34m.\u001b[0m\u001b[0mto\u001b[0m\u001b[0;34m(\u001b[0m\u001b[0mdevice\u001b[0m\u001b[0;34m)\u001b[0m\u001b[0;34m)\u001b[0m\u001b[0;34m\u001b[0m\u001b[0;34m\u001b[0m\u001b[0m\n\u001b[0;32m---> 23\u001b[0;31m                     for val_input_ids, val_target_ids in validation_loader]))\n\u001b[0m\u001b[1;32m     24\u001b[0m             \u001b[0mrun\u001b[0m\u001b[0;34m[\u001b[0m\u001b[0;34m'valid/ppl'\u001b[0m\u001b[0;34m]\u001b[0m\u001b[0;34m.\u001b[0m\u001b[0mlog\u001b[0m\u001b[0;34m(\u001b[0m\u001b[0mvalid_ppl\u001b[0m\u001b[0;34m)\u001b[0m \u001b[0;31m# Envia valid ppl para o Neptune.\u001b[0m\u001b[0;34m\u001b[0m\u001b[0;34m\u001b[0m\u001b[0m\n\u001b[1;32m     25\u001b[0m             \u001b[0;32mif\u001b[0m \u001b[0mcheckinpoint\u001b[0m \u001b[0;32mand\u001b[0m \u001b[0mvalid_ppl\u001b[0m \u001b[0;34m<\u001b[0m \u001b[0mbest_valid_ppl\u001b[0m\u001b[0;34m:\u001b[0m\u001b[0;34m\u001b[0m\u001b[0;34m\u001b[0m\u001b[0m\n",
            "\u001b[0;32m<ipython-input-28-993744d962a6>\u001b[0m in \u001b[0;36mvalidation_step\u001b[0;34m(input_ids, target_ids)\u001b[0m\n\u001b[1;32m     42\u001b[0m     \u001b[0mtarget_ids\u001b[0m \u001b[0;34m=\u001b[0m \u001b[0mtarget_ids\u001b[0m\u001b[0;34m.\u001b[0m\u001b[0mreshape\u001b[0m\u001b[0;34m(\u001b[0m\u001b[0;34m-\u001b[0m\u001b[0;36m1\u001b[0m\u001b[0;34m)\u001b[0m\u001b[0;34m\u001b[0m\u001b[0;34m\u001b[0m\u001b[0m\n\u001b[1;32m     43\u001b[0m     \u001b[0mloss\u001b[0m \u001b[0;34m=\u001b[0m \u001b[0mnn\u001b[0m\u001b[0;34m.\u001b[0m\u001b[0mfunctional\u001b[0m\u001b[0;34m.\u001b[0m\u001b[0mcross_entropy\u001b[0m\u001b[0;34m(\u001b[0m\u001b[0mlogits\u001b[0m\u001b[0;34m,\u001b[0m \u001b[0mtarget_ids\u001b[0m\u001b[0;34m,\u001b[0m \u001b[0mignore_index\u001b[0m\u001b[0;34m=\u001b[0m\u001b[0mmodel\u001b[0m\u001b[0;34m.\u001b[0m\u001b[0mpad_token_id\u001b[0m\u001b[0;34m)\u001b[0m\u001b[0;34m\u001b[0m\u001b[0;34m\u001b[0m\u001b[0m\n\u001b[0;32m---> 44\u001b[0;31m     \u001b[0;32mreturn\u001b[0m \u001b[0mloss\u001b[0m\u001b[0;34m.\u001b[0m\u001b[0mitem\u001b[0m\u001b[0;34m(\u001b[0m\u001b[0;34m)\u001b[0m\u001b[0;34m\u001b[0m\u001b[0;34m\u001b[0m\u001b[0m\n\u001b[0m",
            "\u001b[0;31mKeyboardInterrupt\u001b[0m: "
          ]
        }
      ]
    },
    {
      "cell_type": "markdown",
      "source": [
        "## Avaliação final no dataset de teste\n",
        "\n",
        "\n",
        "Bonus: o modelo com menor perplexidade no dataset de testes ganhará 0.5 ponto na nota final."
      ],
      "metadata": {
        "id": "VgdNymJdNPXP"
      }
    },
    {
      "cell_type": "code",
      "source": [
        "if params['retrain']:\n",
        "  best_model = params['path_saved_model']\n",
        "  model = torch.load(best_model)"
      ],
      "metadata": {
        "id": "wKxF1aykIYdO"
      },
      "execution_count": null,
      "outputs": []
    },
    {
      "cell_type": "code",
      "metadata": {
        "id": "nxN5YytzZ7Tn",
        "colab": {
          "base_uri": "https://localhost:8080/"
        },
        "outputId": "9d8ced78-bc44-4046-80b5-658a7f328c34"
      },
      "source": [
        "#best_model = 'best_model.pt'\n",
        "#model.load_state_dict(torch.load(best_model))\n",
        "\n",
        "test_loader = DataLoader(test_dataset, batch_size=params['batch_size'])\n",
        "\n",
        "with torch.no_grad():\n",
        "    test_ppl = np.exp(np.average([\n",
        "        validation_step(test_input_ids.to(device), test_target_ids.to(device))\n",
        "        for test_input_ids, test_target_ids in test_loader\n",
        "    ]))\n",
        "\n",
        "print(f'test perplexity: {test_ppl}')"
      ],
      "execution_count": 30,
      "outputs": [
        {
          "output_type": "stream",
          "name": "stdout",
          "text": [
            "test perplexity: 165.06971586059183\n"
          ]
        }
      ]
    },
    {
      "cell_type": "code",
      "source": [
        "run['test/perplexity'].log(test_ppl)\n"
      ],
      "metadata": {
        "id": "dqKk8eGXKgfO"
      },
      "execution_count": 31,
      "outputs": []
    },
    {
      "cell_type": "code",
      "source": [
        "run.stop()"
      ],
      "metadata": {
        "id": "ZLT8x2WYKicU",
        "colab": {
          "base_uri": "https://localhost:8080/"
        },
        "outputId": "4e8a58a4-63eb-4538-fcaf-f31c8f7564f0"
      },
      "execution_count": 32,
      "outputs": [
        {
          "output_type": "stream",
          "name": "stdout",
          "text": [
            "Shutting down background jobs, please wait a moment...\n",
            "Done!\n",
            "Waiting for the remaining 4 operations to synchronize with Neptune. Do not kill this process.\n",
            "All 4 operations synced, thanks for waiting!\n",
            "Explore the metadata in the Neptune app:\n",
            "https://app.neptune.ai/leolellisr/dl-ia025/e/DLIA-124\n"
          ]
        }
      ]
    },
    {
      "cell_type": "markdown",
      "source": [
        "## Teste seu modelo com uma sentença\n",
        "\n",
        "Escolha uma sentença gerada pelo modelo que ache interessante."
      ],
      "metadata": {
        "id": "BHvEs8mPszy_"
      }
    },
    {
      "cell_type": "code",
      "source": [
        "prompt = 'Eu gosto de comer pizza pois me faz'\n",
        "max_output_tokens = 20\n",
        "model.eval()\n",
        "\n",
        "for _ in range(max_output_tokens):\n",
        "    input_ids = tokenize(text=prompt, tokenizer=tokenizer)\n",
        "    input_ids_truncated = input_ids[-max_seq_length:]  # Usamos apenas os últimos <max_seq_length> tokens como entrada para o modelo.\n",
        "    logits = model(torch.LongTensor([input_ids_truncated]).to(device))\n",
        "    logits = logits[:, -1, :]  # Usamos apenas o ultimo token da sequencia\n",
        "    # Ao usarmos o argmax, a saída do modelo em cada passo é o token de maior probabilidade.\n",
        "    # Isso se chama decodificação gulosa (greedy decoding).\n",
        "    predicted_id = torch.argmax(logits).item()\n",
        "    input_ids += [predicted_id]  # Concatenamos a entrada com o token escolhido nesse passo.\n",
        "    print(f'pred: {predicted_id}')\n",
        "    print(f'input_ids: {input_ids}')\n",
        "    prompt = tokenizer.decode(input_ids)\n",
        "    print(prompt)"
      ],
      "metadata": {
        "id": "pqxFR-wRvflc",
        "colab": {
          "base_uri": "https://localhost:8080/"
        },
        "outputId": "01c4b485-2912-4543-b218-c476bbcf0616"
      },
      "execution_count": 33,
      "outputs": [
        {
          "output_type": "stream",
          "name": "stdout",
          "text": [
            "pred: 170\n",
            "input_ids: [3396, 10303, 125, 1847, 13779, 15616, 1502, 311, 659, 170]\n",
            "Eu gosto de comer pizza pois me faz com\n",
            "pred: 179\n",
            "input_ids: [3396, 10303, 125, 1847, 13779, 15616, 1502, 311, 659, 170, 179]\n",
            "Eu gosto de comer pizza pois me faz com que\n",
            "pred: 146\n",
            "input_ids: [3396, 10303, 125, 1847, 13779, 15616, 1502, 311, 659, 170, 179, 146]\n",
            "Eu gosto de comer pizza pois me faz com que o\n",
            "pred: 179\n",
            "input_ids: [3396, 10303, 125, 1847, 13779, 15616, 1502, 311, 659, 170, 179, 146, 179]\n",
            "Eu gosto de comer pizza pois me faz com que o que\n",
            "pred: 2779\n",
            "input_ids: [3396, 10303, 125, 1847, 13779, 15616, 1502, 311, 659, 170, 179, 146, 179, 2779]\n",
            "Eu gosto de comer pizza pois me faz com que o que eu\n",
            "pred: 346\n",
            "input_ids: [3396, 10303, 125, 1847, 13779, 15616, 1502, 311, 659, 170, 179, 146, 179, 2779, 346]\n",
            "Eu gosto de comer pizza pois me faz com que o que eu não\n",
            "pred: 311\n",
            "input_ids: [3396, 10303, 125, 1847, 13779, 15616, 1502, 311, 659, 170, 179, 146, 179, 2779, 346, 311]\n",
            "Eu gosto de comer pizza pois me faz com que o que eu não me\n",
            "pred: 5069\n",
            "input_ids: [3396, 10303, 125, 1847, 13779, 15616, 1502, 311, 659, 170, 179, 146, 179, 2779, 346, 311, 5069]\n",
            "Eu gosto de comer pizza pois me faz com que o que eu não me lemb\n",
            "pred: 157\n",
            "input_ids: [3396, 10303, 125, 1847, 13779, 15616, 1502, 311, 659, 170, 179, 146, 179, 2779, 346, 311, 5069, 157]\n",
            "Eu gosto de comer pizza pois me faz com que o que eu não me lembro\n",
            "pred: 125\n",
            "input_ids: [3396, 10303, 125, 1847, 13779, 15616, 1502, 311, 659, 170, 179, 146, 179, 2779, 346, 311, 5069, 157, 125]\n",
            "Eu gosto de comer pizza pois me faz com que o que eu não me lembro de\n",
            "pred: 179\n",
            "input_ids: [3396, 10303, 125, 1847, 13779, 15616, 1502, 311, 659, 170, 179, 146, 179, 2779, 346, 311, 5069, 157, 125, 179]\n",
            "Eu gosto de comer pizza pois me faz com que o que eu não me lembro de que\n",
            "pred: 146\n",
            "input_ids: [3396, 10303, 125, 1847, 13779, 15616, 1502, 311, 659, 170, 179, 146, 179, 2779, 346, 311, 5069, 157, 125, 179, 146]\n",
            "Eu gosto de comer pizza pois me faz com que o que eu não me lembro de que o\n",
            "pred: 179\n",
            "input_ids: [3396, 10303, 125, 1847, 13779, 15616, 1502, 311, 659, 170, 179, 146, 179, 2779, 346, 311, 5069, 157, 125, 179, 146, 179]\n",
            "Eu gosto de comer pizza pois me faz com que o que eu não me lembro de que o que\n",
            "pred: 2779\n",
            "input_ids: [3396, 10303, 125, 1847, 13779, 15616, 1502, 311, 659, 170, 179, 146, 179, 2779, 346, 311, 5069, 157, 125, 179, 146, 179, 2779]\n",
            "Eu gosto de comer pizza pois me faz com que o que eu não me lembro de que o que eu\n",
            "pred: 346\n",
            "input_ids: [3396, 10303, 125, 1847, 13779, 15616, 1502, 311, 659, 170, 179, 146, 179, 2779, 346, 311, 5069, 157, 125, 179, 146, 179, 2779, 346]\n",
            "Eu gosto de comer pizza pois me faz com que o que eu não me lembro de que o que eu não\n",
            "pred: 311\n",
            "input_ids: [3396, 10303, 125, 1847, 13779, 15616, 1502, 311, 659, 170, 179, 146, 179, 2779, 346, 311, 5069, 157, 125, 179, 146, 179, 2779, 346, 311]\n",
            "Eu gosto de comer pizza pois me faz com que o que eu não me lembro de que o que eu não me\n",
            "pred: 5069\n",
            "input_ids: [3396, 10303, 125, 1847, 13779, 15616, 1502, 311, 659, 170, 179, 146, 179, 2779, 346, 311, 5069, 157, 125, 179, 146, 179, 2779, 346, 311, 5069]\n",
            "Eu gosto de comer pizza pois me faz com que o que eu não me lembro de que o que eu não me lemb\n",
            "pred: 157\n",
            "input_ids: [3396, 10303, 125, 1847, 13779, 15616, 1502, 311, 659, 170, 179, 146, 179, 2779, 346, 311, 5069, 157, 125, 179, 146, 179, 2779, 346, 311, 5069, 157]\n",
            "Eu gosto de comer pizza pois me faz com que o que eu não me lembro de que o que eu não me lembro\n",
            "pred: 125\n",
            "input_ids: [3396, 10303, 125, 1847, 13779, 15616, 1502, 311, 659, 170, 179, 146, 179, 2779, 346, 311, 5069, 157, 125, 179, 146, 179, 2779, 346, 311, 5069, 157, 125]\n",
            "Eu gosto de comer pizza pois me faz com que o que eu não me lembro de que o que eu não me lembro de\n",
            "pred: 179\n",
            "input_ids: [3396, 10303, 125, 1847, 13779, 15616, 1502, 311, 659, 170, 179, 146, 179, 2779, 346, 311, 5069, 157, 125, 179, 146, 179, 2779, 346, 311, 5069, 157, 125, 179]\n",
            "Eu gosto de comer pizza pois me faz com que o que eu não me lembro de que o que eu não me lembro de que\n"
          ]
        }
      ]
    },
    {
      "cell_type": "code",
      "source": [
        "prompt = 'Ouviram do Ipiranga em suas margens plácidas um grito'\n",
        "max_output_tokens = 20\n",
        "model.eval()\n",
        "\n",
        "for _ in range(max_output_tokens):\n",
        "    input_ids = tokenize(text=prompt, tokenizer=tokenizer)\n",
        "    input_ids_truncated = input_ids[-max_seq_length:]  # Usamos apenas os últimos <max_seq_length> tokens como entrada para o modelo.\n",
        "    logits = model(torch.LongTensor([input_ids_truncated]).to(device))\n",
        "    logits = logits[:, -1, :]  # Usamos apenas o ultimo token da sequencia\n",
        "    # Ao usarmos o argmax, a saída do modelo em cada passo é o token de maior probabilidade.\n",
        "    # Isso se chama decodificação gulosa (greedy decoding).\n",
        "    predicted_id = torch.argmax(logits).item()\n",
        "    input_ids += [predicted_id]  # Concatenamos a entrada com o token escolhido nesse passo.\n",
        "    prompt = tokenizer.decode(input_ids)\n",
        "    print(prompt)"
      ],
      "metadata": {
        "id": "bzU6DHWHvhDT",
        "colab": {
          "base_uri": "https://localhost:8080/"
        },
        "outputId": "8996db91-1a25-4b97-e13e-60e89bd962cf"
      },
      "execution_count": 34,
      "outputs": [
        {
          "output_type": "stream",
          "name": "stdout",
          "text": [
            "Ouviram do Ipiranga em suas margens plácidas um grito de\n",
            "Ouviram do Ipiranga em suas margens plácidas um grito de um\n",
            "Ouviram do Ipiranga em suas margens plácidas um grito de um dos\n",
            "Ouviram do Ipiranga em suas margens plácidas um grito de um dos mais\n",
            "Ouviram do Ipiranga em suas margens plácidas um grito de um dos mais importantes\n",
            "Ouviram do Ipiranga em suas margens plácidas um grito de um dos mais importantes do\n",
            "Ouviram do Ipiranga em suas margens plácidas um grito de um dos mais importantes do que\n",
            "Ouviram do Ipiranga em suas margens plácidas um grito de um dos mais importantes do que o\n",
            "Ouviram do Ipiranga em suas margens plácidas um grito de um dos mais importantes do que o que\n",
            "Ouviram do Ipiranga em suas margens plácidas um grito de um dos mais importantes do que o que é\n",
            "Ouviram do Ipiranga em suas margens plácidas um grito de um dos mais importantes do que o que é o\n",
            "Ouviram do Ipiranga em suas margens plácidas um grito de um dos mais importantes do que o que é o que\n",
            "Ouviram do Ipiranga em suas margens plácidas um grito de um dos mais importantes do que o que é o que se\n",
            "Ouviram do Ipiranga em suas margens plácidas um grito de um dos mais importantes do que o que é o que se trata\n",
            "Ouviram do Ipiranga em suas margens plácidas um grito de um dos mais importantes do que o que é o que se trata de\n",
            "Ouviram do Ipiranga em suas margens plácidas um grito de um dos mais importantes do que o que é o que se trata de um\n",
            "Ouviram do Ipiranga em suas margens plácidas um grito de um dos mais importantes do que o que é o que se trata de um pouco\n",
            "Ouviram do Ipiranga em suas margens plácidas um grito de um dos mais importantes do que o que é o que se trata de um pouco mais\n",
            "Ouviram do Ipiranga em suas margens plácidas um grito de um dos mais importantes do que o que é o que se trata de um pouco mais de\n",
            "Ouviram do Ipiranga em suas margens plácidas um grito de um dos mais importantes do que o que é o que se trata de um pouco mais de um\n"
          ]
        }
      ]
    },
    {
      "cell_type": "code",
      "source": [
        "prompt ='A galinha atravessou a rua para chegar'\n",
        "max_output_tokens = 20\n",
        "model.eval()\n",
        "\n",
        "for _ in range(max_output_tokens):\n",
        "    input_ids = tokenize(text=prompt, tokenizer=tokenizer)\n",
        "    input_ids_truncated = input_ids[-max_seq_length:]  # Usamos apenas os últimos <max_seq_length> tokens como entrada para o modelo.\n",
        "    logits = model(torch.LongTensor([input_ids_truncated]).to(device))\n",
        "    logits = logits[:, -1, :]  # Usamos apenas o ultimo token da sequencia\n",
        "    # Ao usarmos o argmax, a saída do modelo em cada passo é o token de maior probabilidade.\n",
        "    # Isso se chama decodificação gulosa (greedy decoding).\n",
        "    predicted_id = torch.argmax(logits).item()\n",
        "    input_ids += [predicted_id]  # Concatenamos a entrada com o token escolhido nesse passo.\n",
        "    prompt = tokenizer.decode(input_ids)\n",
        "    print(prompt)"
      ],
      "metadata": {
        "id": "i8NDCTAmyf25",
        "colab": {
          "base_uri": "https://localhost:8080/"
        },
        "outputId": "db4d096b-8a18-419a-fcb2-693510b9c236"
      },
      "execution_count": 35,
      "outputs": [
        {
          "output_type": "stream",
          "name": "stdout",
          "text": [
            "A galinha atravessou a rua para chegar a\n",
            "A galinha atravessou a rua para chegar a um\n",
            "A galinha atravessou a rua para chegar a um dia\n",
            "A galinha atravessou a rua para chegar a um dia,\n",
            "A galinha atravessou a rua para chegar a um dia, mas\n",
            "A galinha atravessou a rua para chegar a um dia, mas não\n",
            "A galinha atravessou a rua para chegar a um dia, mas não é\n",
            "A galinha atravessou a rua para chegar a um dia, mas não é o\n",
            "A galinha atravessou a rua para chegar a um dia, mas não é o que\n",
            "A galinha atravessou a rua para chegar a um dia, mas não é o que se\n",
            "A galinha atravessou a rua para chegar a um dia, mas não é o que se trata\n",
            "A galinha atravessou a rua para chegar a um dia, mas não é o que se trata de\n",
            "A galinha atravessou a rua para chegar a um dia, mas não é o que se trata de um\n",
            "A galinha atravessou a rua para chegar a um dia, mas não é o que se trata de um pouco\n",
            "A galinha atravessou a rua para chegar a um dia, mas não é o que se trata de um pouco mais\n",
            "A galinha atravessou a rua para chegar a um dia, mas não é o que se trata de um pouco mais de\n",
            "A galinha atravessou a rua para chegar a um dia, mas não é o que se trata de um pouco mais de um\n",
            "A galinha atravessou a rua para chegar a um dia, mas não é o que se trata de um pouco mais de um ano\n",
            "A galinha atravessou a rua para chegar a um dia, mas não é o que se trata de um pouco mais de um ano,\n",
            "A galinha atravessou a rua para chegar a um dia, mas não é o que se trata de um pouco mais de um ano, mas\n"
          ]
        }
      ]
    },
    {
      "cell_type": "code",
      "source": [
        "prompt ='Ouça com cuidado, o segredo para a felicidade é'\n",
        "max_output_tokens = 20\n",
        "model.eval()\n",
        "\n",
        "for _ in range(max_output_tokens):\n",
        "    input_ids = tokenize(text=prompt, tokenizer=tokenizer)\n",
        "    input_ids_truncated = input_ids[-max_seq_length:]  # Usamos apenas os últimos <max_seq_length> tokens como entrada para o modelo.\n",
        "    logits = model(torch.LongTensor([input_ids_truncated]).to(device))\n",
        "    logits = logits[:, -1, :]  # Usamos apenas o ultimo token da sequencia\n",
        "    # Ao usarmos o argmax, a saída do modelo em cada passo é o token de maior probabilidade.\n",
        "    # Isso se chama decodificação gulosa (greedy decoding).\n",
        "    predicted_id = torch.argmax(logits).item()\n",
        "    input_ids += [predicted_id]  # Concatenamos a entrada com o token escolhido nesse passo.\n",
        "    prompt = tokenizer.decode(input_ids)\n",
        "    print(prompt)"
      ],
      "metadata": {
        "id": "XOefflDDynTw",
        "colab": {
          "base_uri": "https://localhost:8080/"
        },
        "outputId": "a587c1a9-a9c0-4855-9a83-1e7ed0ceb61d"
      },
      "execution_count": 36,
      "outputs": [
        {
          "output_type": "stream",
          "name": "stdout",
          "text": [
            "Ouça com cuidado, o segredo para a felicidade é a\n",
            "Ouça com cuidado, o segredo para a felicidade é a mesma\n",
            "Ouça com cuidado, o segredo para a felicidade é a mesma coisa\n",
            "Ouça com cuidado, o segredo para a felicidade é a mesma coisa.\n",
            "Ouça com cuidado, o segredo para a felicidade é a mesma coisa..\n",
            "Ouça com cuidado, o segredo para a felicidade é a mesma coisa...\n",
            "Ouça com cuidado, o segredo para a felicidade é a mesma coisa....\n",
            "Ouça com cuidado, o segredo para a felicidade é a mesma coisa.....\n",
            "Ouça com cuidado, o segredo para a felicidade é a mesma coisa......\n",
            "Ouça com cuidado, o segredo para a felicidade é a mesma coisa.......\n",
            "Ouça com cuidado, o segredo para a felicidade é a mesma coisa........\n",
            "Ouça com cuidado, o segredo para a felicidade é a mesma coisa.........\n",
            "Ouça com cuidado, o segredo para a felicidade é a mesma coisa..........\n",
            "Ouça com cuidado, o segredo para a felicidade é a mesma coisa...........\n",
            "Ouça com cuidado, o segredo para a felicidade é a mesma coisa............\n",
            "Ouça com cuidado, o segredo para a felicidade é a mesma coisa.............\n",
            "Ouça com cuidado, o segredo para a felicidade é a mesma coisa..............\n",
            "Ouça com cuidado, o segredo para a felicidade é a mesma coisa...............\n",
            "Ouça com cuidado, o segredo para a felicidade é a mesma coisa................\n",
            "Ouça com cuidado, o segredo para a felicidade é a mesma coisa.................\n"
          ]
        }
      ]
    },
    {
      "cell_type": "code",
      "source": [
        "prompt ='Temos que pegar! Isso eu sei. Pegá-los eu tentarei! Vai ser grande a'\n",
        "max_output_tokens = 20\n",
        "model.eval()\n",
        "\n",
        "for _ in range(max_output_tokens):\n",
        "    input_ids = tokenize(text=prompt, tokenizer=tokenizer)\n",
        "    input_ids_truncated = input_ids[-max_seq_length:]  # Usamos apenas os últimos <max_seq_length> tokens como entrada para o modelo.\n",
        "    logits = model(torch.LongTensor([input_ids_truncated]).to(device))\n",
        "    logits = logits[:, -1, :]  # Usamos apenas o ultimo token da sequencia\n",
        "    # Ao usarmos o argmax, a saída do modelo em cada passo é o token de maior probabilidade.\n",
        "    # Isso se chama decodificação gulosa (greedy decoding).\n",
        "    predicted_id = torch.argmax(logits).item()\n",
        "    input_ids += [predicted_id]  # Concatenamos a entrada com o token escolhido nesse passo.\n",
        "    prompt = tokenizer.decode(input_ids)\n",
        "    print(prompt)"
      ],
      "metadata": {
        "id": "mJJHktsjyIfp",
        "colab": {
          "base_uri": "https://localhost:8080/"
        },
        "outputId": "004c3517-6218-4a1b-8099-cd2bf6566ecc"
      },
      "execution_count": 37,
      "outputs": [
        {
          "output_type": "stream",
          "name": "stdout",
          "text": [
            "Temos que pegar! Isso eu sei. Pegá - los eu tentarei! Vai ser grande a sua\n",
            "Temos que pegar! Isso eu sei. Pegá - los eu tentarei! Vai ser grande a sua vida\n",
            "Temos que pegar! Isso eu sei. Pegá - los eu tentarei! Vai ser grande a sua vida.\n",
            "Temos que pegar! Isso eu sei. Pegá - los eu tentarei! Vai ser grande a sua vida..\n",
            "Temos que pegar! Isso eu sei. Pegá - los eu tentarei! Vai ser grande a sua vida...\n",
            "Temos que pegar! Isso eu sei. Pegá - los eu tentarei! Vai ser grande a sua vida....\n",
            "Temos que pegar! Isso eu sei. Pegá - los eu tentarei! Vai ser grande a sua vida.....\n",
            "Temos que pegar! Isso eu sei. Pegá - los eu tentarei! Vai ser grande a sua vida......\n",
            "Temos que pegar! Isso eu sei. Pegá - los eu tentarei! Vai ser grande a sua vida.......\n",
            "Temos que pegar! Isso eu sei. Pegá - los eu tentarei! Vai ser grande a sua vida........\n",
            "Temos que pegar! Isso eu sei. Pegá - los eu tentarei! Vai ser grande a sua vida.........\n",
            "Temos que pegar! Isso eu sei. Pegá - los eu tentarei! Vai ser grande a sua vida..........\n",
            "Temos que pegar! Isso eu sei. Pegá - los eu tentarei! Vai ser grande a sua vida...........\n",
            "Temos que pegar! Isso eu sei. Pegá - los eu tentarei! Vai ser grande a sua vida............\n",
            "Temos que pegar! Isso eu sei. Pegá - los eu tentarei! Vai ser grande a sua vida.............\n",
            "Temos que pegar! Isso eu sei. Pegá - los eu tentarei! Vai ser grande a sua vida..............\n",
            "Temos que pegar! Isso eu sei. Pegá - los eu tentarei! Vai ser grande a sua vida...............\n",
            "Temos que pegar! Isso eu sei. Pegá - los eu tentarei! Vai ser grande a sua vida................\n",
            "Temos que pegar! Isso eu sei. Pegá - los eu tentarei! Vai ser grande a sua vida.................\n",
            "Temos que pegar! Isso eu sei. Pegá - los eu tentarei! Vai ser grande a sua vida..................\n"
          ]
        }
      ]
    },
    {
      "cell_type": "code",
      "source": [
        "prompt ='Desejo a todas as inimigas vida longa'\n",
        "max_output_tokens = 20\n",
        "model.eval()\n",
        "\n",
        "for _ in range(max_output_tokens):\n",
        "    input_ids = tokenize(text=prompt, tokenizer=tokenizer)\n",
        "    input_ids_truncated = input_ids[-max_seq_length:]  # Usamos apenas os últimos <max_seq_length> tokens como entrada para o modelo.\n",
        "    logits = model(torch.LongTensor([input_ids_truncated]).to(device))\n",
        "    logits = logits[:, -1, :]  # Usamos apenas o ultimo token da sequencia\n",
        "    # Ao usarmos o argmax, a saída do modelo em cada passo é o token de maior probabilidade.\n",
        "    # Isso se chama decodificação gulosa (greedy decoding).\n",
        "    predicted_id = torch.argmax(logits).item()\n",
        "    input_ids += [predicted_id]  # Concatenamos a entrada com o token escolhido nesse passo.\n",
        "    prompt = tokenizer.decode(input_ids)\n",
        "    print(prompt)"
      ],
      "metadata": {
        "id": "AT_dpOD8y2_G",
        "colab": {
          "base_uri": "https://localhost:8080/"
        },
        "outputId": "41d32094-6d76-46a5-bb8d-b35b9797cbad"
      },
      "execution_count": 47,
      "outputs": [
        {
          "output_type": "stream",
          "name": "stdout",
          "text": [
            "Desejo a todas as inimigas vida longa,\n",
            "Desejo a todas as inimigas vida longa, mas\n",
            "Desejo a todas as inimigas vida longa, mas não\n",
            "Desejo a todas as inimigas vida longa, mas não é\n",
            "Desejo a todas as inimigas vida longa, mas não é o\n",
            "Desejo a todas as inimigas vida longa, mas não é o que\n",
            "Desejo a todas as inimigas vida longa, mas não é o que se\n",
            "Desejo a todas as inimigas vida longa, mas não é o que se trata\n",
            "Desejo a todas as inimigas vida longa, mas não é o que se trata de\n",
            "Desejo a todas as inimigas vida longa, mas não é o que se trata de um\n",
            "Desejo a todas as inimigas vida longa, mas não é o que se trata de um pouco\n",
            "Desejo a todas as inimigas vida longa, mas não é o que se trata de um pouco mais\n",
            "Desejo a todas as inimigas vida longa, mas não é o que se trata de um pouco mais de\n",
            "Desejo a todas as inimigas vida longa, mas não é o que se trata de um pouco mais de um\n",
            "Desejo a todas as inimigas vida longa, mas não é o que se trata de um pouco mais de um ano\n",
            "Desejo a todas as inimigas vida longa, mas não é o que se trata de um pouco mais de um ano,\n",
            "Desejo a todas as inimigas vida longa, mas não é o que se trata de um pouco mais de um ano, mas\n",
            "Desejo a todas as inimigas vida longa, mas não é o que se trata de um pouco mais de um ano, mas não\n",
            "Desejo a todas as inimigas vida longa, mas não é o que se trata de um pouco mais de um ano, mas não é\n",
            "Desejo a todas as inimigas vida longa, mas não é o que se trata de um pouco mais de um ano, mas não é o\n"
          ]
        }
      ]
    },
    {
      "cell_type": "code",
      "source": [
        "torch.LongTensor([input_ids_truncated]).shape"
      ],
      "metadata": {
        "colab": {
          "base_uri": "https://localhost:8080/"
        },
        "id": "cmMq7-rJz4-l",
        "outputId": "741ce972-dec4-41ce-c5a0-6786efec5331"
      },
      "execution_count": 55,
      "outputs": [
        {
          "output_type": "execute_result",
          "data": {
            "text/plain": [
              "torch.Size([1, 9])"
            ]
          },
          "metadata": {},
          "execution_count": 55
        }
      ]
    },
    {
      "cell_type": "code",
      "source": [
        "input_ids.shape"
      ],
      "metadata": {
        "colab": {
          "base_uri": "https://localhost:8080/"
        },
        "id": "J4FvPs8E0DIS",
        "outputId": "106bc6ce-ab58-45b8-81fa-b8f40bb3dfa5"
      },
      "execution_count": 53,
      "outputs": [
        {
          "output_type": "execute_result",
          "data": {
            "text/plain": [
              "torch.Size([9])"
            ]
          },
          "metadata": {},
          "execution_count": 53
        }
      ]
    },
    {
      "cell_type": "code",
      "source": [
        "test = next(iter(test_loader))\n",
        "input_ids = test[0][0]\n",
        "max_output_tokens = 20\n",
        "model.eval()\n",
        "input_ids = input_ids.tolist()\n",
        "prompt = tokenizer.decode(input_ids)\n",
        "print(prompt)\n",
        "for _ in range(max_output_tokens):\n",
        "    #input_ids = tokenize(text=prompt, tokenizer=tokenizer)\n",
        "    input_ids_truncated = input_ids[-max_seq_length:]  # Usamos apenas os últimos <max_seq_length> tokens como entrada para o modelo.\n",
        "    logits = model(torch.LongTensor([input_ids_truncated]).to(device))\n",
        "    #print(input_ids)\n",
        "    logits = logits[:, -1, :]  # Usamos apenas o ultimo token da sequencia\n",
        "    # Ao usarmos o argmax, a saída do modelo em cada passo é o token de maior probabilidade.\n",
        "    # Isso se chama decodificação gulosa (greedy decoding).\n",
        "    predicted_id = torch.argmax(logits).item()\n",
        "    \n",
        "    input_ids += [predicted_id]  # Concatenamos a entrada com o token escolhido nesse passo.\n",
        "    #print(input_ids)\n",
        "    prompt = tokenizer.decode(input_ids)\n",
        "    print(prompt)"
      ],
      "metadata": {
        "colab": {
          "base_uri": "https://localhost:8080/"
        },
        "id": "lpvUtaRLzJHe",
        "outputId": "17fef0c4-0cb6-4754-dec4-afa176bde53a"
      },
      "execution_count": 63,
      "outputs": [
        {
          "output_type": "stream",
          "name": "stdout",
          "text": [
            "[CLS] Decameron, de Boccac\n",
            "[CLS] Decameron, de Boccaco\n",
            "[CLS] Decameron, de Boccaco,\n",
            "[CLS] Decameron, de Boccaco, e\n",
            "[CLS] Decameron, de Boccaco, e o\n",
            "[CLS] Decameron, de Boccaco, e o que\n",
            "[CLS] Decameron, de Boccaco, e o que é\n",
            "[CLS] Decameron, de Boccaco, e o que é o\n",
            "[CLS] Decameron, de Boccaco, e o que é o que\n",
            "[CLS] Decameron, de Boccaco, e o que é o que é\n",
            "[CLS] Decameron, de Boccaco, e o que é o que é o\n",
            "[CLS] Decameron, de Boccaco, e o que é o que é o que\n",
            "[CLS] Decameron, de Boccaco, e o que é o que é o que é\n",
            "[CLS] Decameron, de Boccaco, e o que é o que é o que é o\n",
            "[CLS] Decameron, de Boccaco, e o que é o que é o que é o que\n",
            "[CLS] Decameron, de Boccaco, e o que é o que é o que é o que é\n",
            "[CLS] Decameron, de Boccaco, e o que é o que é o que é o que é o\n",
            "[CLS] Decameron, de Boccaco, e o que é o que é o que é o que é o que\n",
            "[CLS] Decameron, de Boccaco, e o que é o que é o que é o que é o que é\n",
            "[CLS] Decameron, de Boccaco, e o que é o que é o que é o que é o que é o\n",
            "[CLS] Decameron, de Boccaco, e o que é o que é o que é o que é o que é o que\n"
          ]
        }
      ]
    },
    {
      "cell_type": "code",
      "source": [
        "test = next(iter(train_loader))\n",
        "input_ids = test[0][0]\n",
        "max_output_tokens = 20\n",
        "model.eval()\n",
        "input_ids = input_ids.tolist()\n",
        "prompt = tokenizer.decode(input_ids)\n",
        "print(prompt)\n",
        "for _ in range(max_output_tokens):\n",
        "    #input_ids = tokenize(text=prompt, tokenizer=tokenizer)\n",
        "    input_ids_truncated = input_ids[-max_seq_length:]  # Usamos apenas os últimos <max_seq_length> tokens como entrada para o modelo.\n",
        "    logits = model(torch.LongTensor([input_ids_truncated]).to(device))\n",
        "    #print(input_ids)\n",
        "    logits = logits[:, -1, :]  # Usamos apenas o ultimo token da sequencia\n",
        "    # Ao usarmos o argmax, a saída do modelo em cada passo é o token de maior probabilidade.\n",
        "    # Isso se chama decodificação gulosa (greedy decoding).\n",
        "    predicted_id = torch.argmax(logits).item()\n",
        "    \n",
        "    input_ids += [predicted_id]  # Concatenamos a entrada com o token escolhido nesse passo.\n",
        "    #print(input_ids)\n",
        "    prompt = tokenizer.decode(input_ids)\n",
        "    print(prompt)"
      ],
      "metadata": {
        "colab": {
          "base_uri": "https://localhost:8080/"
        },
        "id": "trv2e9fR1eb2",
        "outputId": "0910b6cd-98dc-4846-f7ce-ee9d96dd7c11"
      },
      "execution_count": 64,
      "outputs": [
        {
          "output_type": "stream",
          "name": "stdout",
          "text": [
            "letalidade dupla! A forma de atua [UNK]\n",
            "letalidade dupla! A forma de atua [UNK].\n",
            "letalidade dupla! A forma de atua [UNK]..\n",
            "letalidade dupla! A forma de atua [UNK]...\n",
            "letalidade dupla! A forma de atua [UNK]....\n",
            "letalidade dupla! A forma de atua [UNK].....\n",
            "letalidade dupla! A forma de atua [UNK]......\n",
            "letalidade dupla! A forma de atua [UNK].......\n",
            "letalidade dupla! A forma de atua [UNK]........\n",
            "letalidade dupla! A forma de atua [UNK].........\n",
            "letalidade dupla! A forma de atua [UNK]..........\n",
            "letalidade dupla! A forma de atua [UNK]...........\n",
            "letalidade dupla! A forma de atua [UNK]............\n",
            "letalidade dupla! A forma de atua [UNK].............\n",
            "letalidade dupla! A forma de atua [UNK]..............\n",
            "letalidade dupla! A forma de atua [UNK]...............\n",
            "letalidade dupla! A forma de atua [UNK]................\n",
            "letalidade dupla! A forma de atua [UNK].................\n",
            "letalidade dupla! A forma de atua [UNK]..................\n",
            "letalidade dupla! A forma de atua [UNK]...................\n",
            "letalidade dupla! A forma de atua [UNK]....................\n"
          ]
        }
      ]
    },
    {
      "cell_type": "code",
      "source": [
        "test = next(iter(validation_loader))\n",
        "input_ids = test[0][0]\n",
        "max_output_tokens = 20\n",
        "model.eval()\n",
        "input_ids = input_ids.tolist()\n",
        "prompt = tokenizer.decode(input_ids)\n",
        "print(prompt)\n",
        "for _ in range(max_output_tokens):\n",
        "    #input_ids = tokenize(text=prompt, tokenizer=tokenizer)\n",
        "    input_ids_truncated = input_ids[-max_seq_length:]  # Usamos apenas os últimos <max_seq_length> tokens como entrada para o modelo.\n",
        "    logits = model(torch.LongTensor([input_ids_truncated]).to(device))\n",
        "    #print(input_ids)\n",
        "    logits = logits[:, -1, :]  # Usamos apenas o ultimo token da sequencia\n",
        "    # Ao usarmos o argmax, a saída do modelo em cada passo é o token de maior probabilidade.\n",
        "    # Isso se chama decodificação gulosa (greedy decoding).\n",
        "    predicted_id = torch.argmax(logits).item()\n",
        "    \n",
        "    input_ids += [predicted_id]  # Concatenamos a entrada com o token escolhido nesse passo.\n",
        "    #print(input_ids)\n",
        "    prompt = tokenizer.decode(input_ids)\n",
        "    print(prompt)"
      ],
      "metadata": {
        "colab": {
          "base_uri": "https://localhost:8080/"
        },
        "id": "4-t5IeyD1jdc",
        "outputId": "6fff2310-cb17-44cb-f0bf-b8512130e11b"
      },
      "execution_count": 67,
      "outputs": [
        {
          "output_type": "stream",
          "name": "stdout",
          "text": [
            "[CLS] Andre Torreta Publicitário, escritor e\n",
            "[CLS] Andre Torreta Publicitário, escritor e o\n",
            "[CLS] Andre Torreta Publicitário, escritor e o presidente\n",
            "[CLS] Andre Torreta Publicitário, escritor e o presidente da\n",
            "[CLS] Andre Torreta Publicitário, escritor e o presidente da República\n",
            "[CLS] Andre Torreta Publicitário, escritor e o presidente da República,\n",
            "[CLS] Andre Torreta Publicitário, escritor e o presidente da República, que\n",
            "[CLS] Andre Torreta Publicitário, escritor e o presidente da República, que é\n",
            "[CLS] Andre Torreta Publicitário, escritor e o presidente da República, que é o\n",
            "[CLS] Andre Torreta Publicitário, escritor e o presidente da República, que é o primeiro\n",
            "[CLS] Andre Torreta Publicitário, escritor e o presidente da República, que é o primeiro passo\n",
            "[CLS] Andre Torreta Publicitário, escritor e o presidente da República, que é o primeiro passo para\n",
            "[CLS] Andre Torreta Publicitário, escritor e o presidente da República, que é o primeiro passo para o\n",
            "[CLS] Andre Torreta Publicitário, escritor e o presidente da República, que é o primeiro passo para o Brasil\n",
            "[CLS] Andre Torreta Publicitário, escritor e o presidente da República, que é o primeiro passo para o Brasil.\n",
            "[CLS] Andre Torreta Publicitário, escritor e o presidente da República, que é o primeiro passo para o Brasil. O\n",
            "[CLS] Andre Torreta Publicitário, escritor e o presidente da República, que é o primeiro passo para o Brasil. O que\n",
            "[CLS] Andre Torreta Publicitário, escritor e o presidente da República, que é o primeiro passo para o Brasil. O que é\n",
            "[CLS] Andre Torreta Publicitário, escritor e o presidente da República, que é o primeiro passo para o Brasil. O que é o\n",
            "[CLS] Andre Torreta Publicitário, escritor e o presidente da República, que é o primeiro passo para o Brasil. O que é o que\n",
            "[CLS] Andre Torreta Publicitário, escritor e o presidente da República, que é o primeiro passo para o Brasil. O que é o que é\n"
          ]
        }
      ]
    },
    {
      "cell_type": "markdown",
      "source": [
        "## Bonus 1\n",
        "Quem conseguir a menor perplexidade no dataset de testes ganha 0.5 ponto na média final.\n",
        "\n",
        "## Bonus 2\n",
        "Qual é a complexidade (em notação O-grande) da função de geração de texto acima?\n",
        "\n",
        "Quem responder corretamente a pergunta acima e deixar a função com menor complexidade ganha 0.5 ponto na média final."
      ],
      "metadata": {
        "id": "nGdxlXhGq7Ua"
      }
    }
  ]
}